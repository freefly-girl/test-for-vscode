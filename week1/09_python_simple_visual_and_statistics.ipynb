{
 "cells": [
  {
   "cell_type": "markdown",
   "metadata": {},
   "source": [
    "<center>\n",
    "<img src=\"logo.png\" height=\"900\"> \n",
    "</center>\n",
    "\n",
    "\n",
    "#  Описательные статистики\n",
    "\n",
    "В этой тетрадке мы поговорим про описательные статистики и простые визуализации."
   ]
  },
  {
   "cell_type": "code",
   "execution_count": 4,
   "metadata": {},
   "outputs": [],
   "source": [
    "import numpy as np         # библиотека для матриц и математики\n",
    "import pandas as pd        # библиотека для работы с табличками\n",
    "from scipy import stats    # модуль для работы со статистикой\n",
    "\n",
    "# библиотеки для визуализации\n",
    "import matplotlib.pyplot as plt\n",
    "import seaborn as sns\n",
    "\n",
    "plt.style.use('ggplot')    # стиль графиков"
   ]
  },
  {
   "cell_type": "markdown",
   "metadata": {},
   "source": [
    "Опция `matplotlib inline` - позволяет рисовать графики прямо в ноутбуке."
   ]
  },
  {
   "cell_type": "code",
   "execution_count": 5,
   "metadata": {},
   "outputs": [],
   "source": [
    "%matplotlib inline"
   ]
  },
  {
   "cell_type": "markdown",
   "metadata": {},
   "source": [
    "# 1. Данные"
   ]
  },
  {
   "cell_type": "code",
   "execution_count": 6,
   "metadata": {
    "scrolled": true
   },
   "outputs": [],
   "source": [
    "df = pd.read_csv(\"data/youtube_data_short.csv\", sep = \"\\t\")"
   ]
  },
  {
   "cell_type": "code",
   "execution_count": 72,
   "metadata": {},
   "outputs": [
    {
     "name": "stdout",
     "output_type": "stream",
     "text": [
      "(19124, 10)\n"
     ]
    }
   ],
   "source": [
    "print(df.shape)"
   ]
  },
  {
   "cell_type": "code",
   "execution_count": 73,
   "metadata": {
    "scrolled": false
   },
   "outputs": [
    {
     "data": {
      "text/html": [
       "<div>\n",
       "<style scoped>\n",
       "    .dataframe tbody tr th:only-of-type {\n",
       "        vertical-align: middle;\n",
       "    }\n",
       "\n",
       "    .dataframe tbody tr th {\n",
       "        vertical-align: top;\n",
       "    }\n",
       "\n",
       "    .dataframe thead th {\n",
       "        text-align: right;\n",
       "    }\n",
       "</style>\n",
       "<table border=\"1\" class=\"dataframe\">\n",
       "  <thead>\n",
       "    <tr style=\"text-align: right;\">\n",
       "      <th></th>\n",
       "      <th>title</th>\n",
       "      <th>commentCount</th>\n",
       "      <th>dislikeCount</th>\n",
       "      <th>likeCount</th>\n",
       "      <th>music_style</th>\n",
       "      <th>performer</th>\n",
       "      <th>viewCount</th>\n",
       "      <th>commentators_uniq</th>\n",
       "      <th>comments_obscene_cnt</th>\n",
       "      <th>video_age</th>\n",
       "    </tr>\n",
       "  </thead>\n",
       "  <tbody>\n",
       "    <tr>\n",
       "      <th>105</th>\n",
       "      <td>\"Первая четверть\" Юбилейный концерт в Олимпийс...</td>\n",
       "      <td>11.0</td>\n",
       "      <td>0.0</td>\n",
       "      <td>125.0</td>\n",
       "      <td>rock</td>\n",
       "      <td>арбенина</td>\n",
       "      <td>2225.0</td>\n",
       "      <td>NaN</td>\n",
       "      <td>NaN</td>\n",
       "      <td>8</td>\n",
       "    </tr>\n",
       "    <tr>\n",
       "      <th>106</th>\n",
       "      <td>\"Первая четверть\" юбилейный концерт Дианы Арбе...</td>\n",
       "      <td>43.0</td>\n",
       "      <td>3.0</td>\n",
       "      <td>399.0</td>\n",
       "      <td>rock</td>\n",
       "      <td>арбенина</td>\n",
       "      <td>3177.0</td>\n",
       "      <td>NaN</td>\n",
       "      <td>NaN</td>\n",
       "      <td>0</td>\n",
       "    </tr>\n",
       "    <tr>\n",
       "      <th>107</th>\n",
       "      <td>\"Перелётная птица\" [Москва, 2012г.]</td>\n",
       "      <td>2.0</td>\n",
       "      <td>3.0</td>\n",
       "      <td>56.0</td>\n",
       "      <td>shanson</td>\n",
       "      <td>ирина_круг</td>\n",
       "      <td>8325.0</td>\n",
       "      <td>2.0</td>\n",
       "      <td>0.0</td>\n",
       "      <td>1984</td>\n",
       "    </tr>\n",
       "    <tr>\n",
       "      <th>108</th>\n",
       "      <td>\"Пока ещё не поздно\". Михаил Круг. Жизнь и люб...</td>\n",
       "      <td>7.0</td>\n",
       "      <td>7.0</td>\n",
       "      <td>108.0</td>\n",
       "      <td>shanson</td>\n",
       "      <td>ирина_круг</td>\n",
       "      <td>29928.0</td>\n",
       "      <td>5.0</td>\n",
       "      <td>0.0</td>\n",
       "      <td>2148</td>\n",
       "    </tr>\n",
       "    <tr>\n",
       "      <th>109</th>\n",
       "      <td>\"Пока ещё не поздно\". Михаил Круг. Любовь и см...</td>\n",
       "      <td>15.0</td>\n",
       "      <td>11.0</td>\n",
       "      <td>158.0</td>\n",
       "      <td>shanson</td>\n",
       "      <td>ирина_круг</td>\n",
       "      <td>27185.0</td>\n",
       "      <td>9.0</td>\n",
       "      <td>0.0</td>\n",
       "      <td>2148</td>\n",
       "    </tr>\n",
       "    <tr>\n",
       "      <th>110</th>\n",
       "      <td>\"Последний герой\" с Дианой Арбениной - пре...</td>\n",
       "      <td>1.0</td>\n",
       "      <td>1.0</td>\n",
       "      <td>31.0</td>\n",
       "      <td>rock</td>\n",
       "      <td>арбенина</td>\n",
       "      <td>1953.0</td>\n",
       "      <td>1.0</td>\n",
       "      <td>0.0</td>\n",
       "      <td>892</td>\n",
       "    </tr>\n",
       "    <tr>\n",
       "      <th>111</th>\n",
       "      <td>\"Последний герой: Павел Кашин (тизер программы...</td>\n",
       "      <td>0.0</td>\n",
       "      <td>1.0</td>\n",
       "      <td>9.0</td>\n",
       "      <td>rock</td>\n",
       "      <td>арбенина</td>\n",
       "      <td>954.0</td>\n",
       "      <td>NaN</td>\n",
       "      <td>NaN</td>\n",
       "      <td>757</td>\n",
       "    </tr>\n",
       "  </tbody>\n",
       "</table>\n",
       "</div>"
      ],
      "text/plain": [
       "                                                 title  commentCount  \\\n",
       "105  \"Первая четверть\" Юбилейный концерт в Олимпийс...          11.0   \n",
       "106  \"Первая четверть\" юбилейный концерт Дианы Арбе...          43.0   \n",
       "107                \"Перелётная птица\" [Москва, 2012г.]           2.0   \n",
       "108  \"Пока ещё не поздно\". Михаил Круг. Жизнь и люб...           7.0   \n",
       "109  \"Пока ещё не поздно\". Михаил Круг. Любовь и см...          15.0   \n",
       "110  \"Последний герой\" с Дианой Арбениной - пре...           1.0   \n",
       "111  \"Последний герой: Павел Кашин (тизер программы...           0.0   \n",
       "\n",
       "     dislikeCount  likeCount music_style   performer  viewCount  \\\n",
       "105           0.0      125.0        rock    арбенина     2225.0   \n",
       "106           3.0      399.0        rock    арбенина     3177.0   \n",
       "107           3.0       56.0     shanson  ирина_круг     8325.0   \n",
       "108           7.0      108.0     shanson  ирина_круг    29928.0   \n",
       "109          11.0      158.0     shanson  ирина_круг    27185.0   \n",
       "110           1.0       31.0        rock    арбенина     1953.0   \n",
       "111           1.0        9.0        rock    арбенина      954.0   \n",
       "\n",
       "     commentators_uniq  comments_obscene_cnt  video_age  \n",
       "105                NaN                   NaN          8  \n",
       "106                NaN                   NaN          0  \n",
       "107                2.0                   0.0       1984  \n",
       "108                5.0                   0.0       2148  \n",
       "109                9.0                   0.0       2148  \n",
       "110                1.0                   0.0        892  \n",
       "111                NaN                   NaN        757  "
      ]
     },
     "execution_count": 73,
     "metadata": {},
     "output_type": "execute_result"
    }
   ],
   "source": [
    "df[105:112]"
   ]
  },
  {
   "cell_type": "code",
   "execution_count": 6,
   "metadata": {},
   "outputs": [
    {
     "data": {
      "text/plain": [
       "title                    object\n",
       "commentCount            float64\n",
       "dislikeCount            float64\n",
       "likeCount               float64\n",
       "music_style              object\n",
       "performer                object\n",
       "viewCount               float64\n",
       "commentators_uniq       float64\n",
       "comments_obscene_cnt    float64\n",
       "video_age                 int64\n",
       "dtype: object"
      ]
     },
     "execution_count": 6,
     "metadata": {},
     "output_type": "execute_result"
    }
   ],
   "source": [
    "df.dtypes"
   ]
  },
  {
   "cell_type": "markdown",
   "metadata": {},
   "source": [
    "__Описание колонок:__\n",
    "\n",
    "- `title` - название видео\n",
    "- `commentCount` - число комментариев\n",
    "- `dislikeCount` - число дизлайков\n",
    "- `likeCount`  - число лайков\n",
    "- `music_style` - музыкальный стиль\n",
    "- `performer` - исполнитель\n",
    "- `viewCount` - число просмотров\n",
    "- `commentators_uniq` - число уникальных комментаторов\n",
    "- `comments_obscene_cnt` - число комментариев\n",
    "- `video_age` - возраст видео в днях\n",
    "\n",
    "Возраст видео посчитан в днях относительно `2019-03-15` (момент, когда данные собирались авторами курса)."
   ]
  },
  {
   "cell_type": "markdown",
   "metadata": {},
   "source": [
    "# 2. Описательные статистики"
   ]
  },
  {
   "cell_type": "code",
   "execution_count": 7,
   "metadata": {},
   "outputs": [
    {
     "data": {
      "text/plain": [
       "nan"
      ]
     },
     "execution_count": 7,
     "metadata": {},
     "output_type": "execute_result"
    }
   ],
   "source": [
    "np.mean(df.likeCount.values)"
   ]
  },
  {
   "cell_type": "code",
   "execution_count": 8,
   "metadata": {
    "scrolled": true
   },
   "outputs": [
    {
     "data": {
      "text/plain": [
       "nan"
      ]
     },
     "execution_count": 8,
     "metadata": {},
     "output_type": "execute_result"
    }
   ],
   "source": [
    "df.likeCount.values.mean()"
   ]
  },
  {
   "cell_type": "markdown",
   "metadata": {},
   "source": [
    "Подобный результат обусловлен наличием пропусков в данных"
   ]
  },
  {
   "cell_type": "markdown",
   "metadata": {},
   "source": [
    "### 2.1 Максимальное и минимальное значения\n",
    "\n",
    "Посмотрим, какое в таблице есть максимальное и минимальное количество лайков под видео."
   ]
  },
  {
   "cell_type": "code",
   "execution_count": 9,
   "metadata": {},
   "outputs": [
    {
     "name": "stdout",
     "output_type": "stream",
     "text": [
      "1686810.0 1686810.0\n"
     ]
    }
   ],
   "source": [
    "print(df.likeCount.max(), \n",
    "      df['likeCount'].max()\n",
    "     )"
   ]
  },
  {
   "cell_type": "code",
   "execution_count": 10,
   "metadata": {},
   "outputs": [
    {
     "data": {
      "text/plain": [
       "0.0"
      ]
     },
     "execution_count": 10,
     "metadata": {},
     "output_type": "execute_result"
    }
   ],
   "source": [
    "df['likeCount'].min()"
   ]
  },
  {
   "cell_type": "markdown",
   "metadata": {},
   "source": [
    "Обратите внимание, что мы можем обращаться к столбцам ещё и через точку (только если имя столбца не содержит пробелов / точек / запятых / и т.д.). Давайте посмотрим кто накопил такое большое число лайков под своим клипом. "
   ]
  },
  {
   "cell_type": "code",
   "execution_count": 11,
   "metadata": {},
   "outputs": [
    {
     "data": {
      "text/plain": [
       "1686810.0"
      ]
     },
     "execution_count": 11,
     "metadata": {},
     "output_type": "execute_result"
    }
   ],
   "source": [
    "mx = df.likeCount.max()\n",
    "mx"
   ]
  },
  {
   "cell_type": "code",
   "execution_count": 12,
   "metadata": {},
   "outputs": [
    {
     "data": {
      "text/html": [
       "<div>\n",
       "<style scoped>\n",
       "    .dataframe tbody tr th:only-of-type {\n",
       "        vertical-align: middle;\n",
       "    }\n",
       "\n",
       "    .dataframe tbody tr th {\n",
       "        vertical-align: top;\n",
       "    }\n",
       "\n",
       "    .dataframe thead th {\n",
       "        text-align: right;\n",
       "    }\n",
       "</style>\n",
       "<table border=\"1\" class=\"dataframe\">\n",
       "  <thead>\n",
       "    <tr style=\"text-align: right;\">\n",
       "      <th></th>\n",
       "      <th>title</th>\n",
       "      <th>commentCount</th>\n",
       "      <th>dislikeCount</th>\n",
       "      <th>likeCount</th>\n",
       "      <th>music_style</th>\n",
       "      <th>performer</th>\n",
       "      <th>viewCount</th>\n",
       "      <th>commentators_uniq</th>\n",
       "      <th>comments_obscene_cnt</th>\n",
       "      <th>video_age</th>\n",
       "    </tr>\n",
       "  </thead>\n",
       "  <tbody>\n",
       "    <tr>\n",
       "      <th>18649</th>\n",
       "      <td>Элджей &amp; Feduk - Розовое вино</td>\n",
       "      <td>191702.0</td>\n",
       "      <td>151772.0</td>\n",
       "      <td>1686810.0</td>\n",
       "      <td>rap</td>\n",
       "      <td>feduk</td>\n",
       "      <td>208753182.0</td>\n",
       "      <td>3702.0</td>\n",
       "      <td>183.0</td>\n",
       "      <td>485</td>\n",
       "    </tr>\n",
       "  </tbody>\n",
       "</table>\n",
       "</div>"
      ],
      "text/plain": [
       "                               title  commentCount  dislikeCount  likeCount  \\\n",
       "18649  Элджей & Feduk - Розовое вино      191702.0      151772.0  1686810.0   \n",
       "\n",
       "      music_style performer    viewCount  commentators_uniq  \\\n",
       "18649         rap     feduk  208753182.0             3702.0   \n",
       "\n",
       "       comments_obscene_cnt  video_age  \n",
       "18649                 183.0        485  "
      ]
     },
     "execution_count": 12,
     "metadata": {},
     "output_type": "execute_result"
    }
   ],
   "source": [
    "df[df.likeCount == mx]"
   ]
  },
  {
   "cell_type": "markdown",
   "metadata": {},
   "source": [
    "### 2.2 Меры центральной тенденции (среднего уровня)\n",
    "\n",
    "Меры центральной тенденции — показатели, представляющие собой ответ на вопрос: «На что похожа середина данных?». Середину можно описывать с помощью разных показателей! Давайте посмотрим на них. \n",
    "\n",
    "**Среднее**\n",
    "\n",
    "В случае со средним значением «серединой» будет среднее арифметическое. Среднее значение отражает типичный показатель в наборе данных. Если мы случайно выберем один из показателей, то, скорее всего, получим значение, близкое к среднему."
   ]
  },
  {
   "cell_type": "code",
   "execution_count": 13,
   "metadata": {},
   "outputs": [
    {
     "data": {
      "text/plain": [
       "5735.014482758621"
      ]
     },
     "execution_count": 13,
     "metadata": {},
     "output_type": "execute_result"
    }
   ],
   "source": [
    "df.likeCount.mean()"
   ]
  },
  {
   "cell_type": "markdown",
   "metadata": {},
   "source": [
    "**Медиана**\n",
    "\n",
    "Чтобы найти медиану, данные нужно расположить в порядке возрастания. Медианой будет значение, которое совпадает с серединой набора данных. Если количество значений чётное, то берётся среднее двух значений, которые «окружают» середину."
   ]
  },
  {
   "cell_type": "code",
   "execution_count": 14,
   "metadata": {},
   "outputs": [
    {
     "data": {
      "text/plain": [
       "100.0"
      ]
     },
     "execution_count": 14,
     "metadata": {},
     "output_type": "execute_result"
    }
   ],
   "source": [
    "df.likeCount.median()"
   ]
  },
  {
   "cell_type": "markdown",
   "metadata": {},
   "source": [
    "Медиана сильно отличается от среднего это происходит из-за выбросов, характеризующихся очедь длинным хвостом распределения."
   ]
  },
  {
   "cell_type": "code",
   "execution_count": 15,
   "metadata": {},
   "outputs": [
    {
     "data": {
      "image/png": "[encoded data removed]",
      "text/plain": [
       "<Figure size 432x288 with 1 Axes>"
      ]
     },
     "metadata": {
      "needs_background": "light"
     },
     "output_type": "display_data"
    }
   ],
   "source": [
    "df.likeCount.hist(bins=50, density=True);\n",
    "\n",
    "# density=True нормирует площадь под столбцами к 1, density = плотность"
   ]
  },
  {
   "cell_type": "markdown",
   "metadata": {},
   "source": [
    "Сделаем по вертикале логарифмическую шкалу, чтобы лучше разглядеть выбросы в хвосте. "
   ]
  },
  {
   "cell_type": "code",
   "execution_count": 16,
   "metadata": {},
   "outputs": [
    {
     "data": {
      "image/png": "[encoded data removed]",
      "text/plain": [
       "<Figure size 432x288 with 1 Axes>"
      ]
     },
     "metadata": {
      "needs_background": "light"
     },
     "output_type": "display_data"
    }
   ],
   "source": [
    "df.likeCount.hist(bins=50, log=True);"
   ]
  },
  {
   "cell_type": "markdown",
   "metadata": {},
   "source": [
    "__Запомните на всю жизнь:__ выбросы - зло. Среднее значение чувствительно к выбросам, а медиана нет. "
   ]
  },
  {
   "cell_type": "markdown",
   "metadata": {},
   "source": [
    "### 2.3 Меры разброса\n",
    "\n",
    "Выше мы посмотрели на то насколько данные типичные. Кроме типичность интересно насколько в данных сильный разброс. Меры разброса отвечают на вопрос: «Как сильно мои данные могут отличаться от типичного значения?».\n",
    "\n",
    "**Дисперсия и стандартное отклонение**"
   ]
  },
  {
   "cell_type": "code",
   "execution_count": 17,
   "metadata": {},
   "outputs": [
    {
     "data": {
      "text/plain": [
       "1513365309.7446747"
      ]
     },
     "execution_count": 17,
     "metadata": {},
     "output_type": "execute_result"
    }
   ],
   "source": [
    "# ddof=0 деление на n      <- смещенная оценка дисперсии\n",
    "# ddof=1 деление на (n-1)  <- НЕсмещенная оценка дисперсии\n",
    "\n",
    "df.likeCount.var(ddof=0) # дисперсия, variance"
   ]
  },
  {
   "cell_type": "code",
   "execution_count": 18,
   "metadata": {},
   "outputs": [
    {
     "data": {
      "text/plain": [
       "1513445598.635849"
      ]
     },
     "execution_count": 18,
     "metadata": {},
     "output_type": "execute_result"
    }
   ],
   "source": [
    "df.likeCount.var(ddof=1) # несмещённый вариант"
   ]
  },
  {
   "cell_type": "code",
   "execution_count": 19,
   "metadata": {},
   "outputs": [
    {
     "data": {
      "text/plain": [
       "38901.99621799214"
      ]
     },
     "execution_count": 19,
     "metadata": {},
     "output_type": "execute_result"
    }
   ],
   "source": [
    "df.likeCount.std(ddof=0) # стандартное отклонение, standard deviation"
   ]
  },
  {
   "cell_type": "code",
   "execution_count": 20,
   "metadata": {},
   "outputs": [
    {
     "data": {
      "text/plain": [
       "38903.02814223912"
      ]
     },
     "execution_count": 20,
     "metadata": {},
     "output_type": "execute_result"
    }
   ],
   "source": [
    "df.likeCount.std(ddof=1) # несмещённый вариант"
   ]
  },
  {
   "cell_type": "markdown",
   "metadata": {},
   "source": [
    "### 2.4 Квантили"
   ]
  },
  {
   "cell_type": "code",
   "execution_count": 21,
   "metadata": {},
   "outputs": [
    {
     "data": {
      "text/plain": [
       "128146.6499999979"
      ]
     },
     "execution_count": 21,
     "metadata": {},
     "output_type": "execute_result"
    }
   ],
   "source": [
    "df.likeCount.quantile(0.99)"
   ]
  },
  {
   "cell_type": "markdown",
   "metadata": {},
   "source": [
    "Выходит, что у $99\\%$ видео из выборки меньше $128146$ лайков, и у $1\\%$ - больше. Выведем самых залайканные жанры из этого $1\\%$. "
   ]
  },
  {
   "cell_type": "code",
   "execution_count": 22,
   "metadata": {},
   "outputs": [],
   "source": [
    "q = df.likeCount.quantile(0.99)"
   ]
  },
  {
   "cell_type": "code",
   "execution_count": 23,
   "metadata": {},
   "outputs": [
    {
     "data": {
      "text/html": [
       "<div>\n",
       "<style scoped>\n",
       "    .dataframe tbody tr th:only-of-type {\n",
       "        vertical-align: middle;\n",
       "    }\n",
       "\n",
       "    .dataframe tbody tr th {\n",
       "        vertical-align: top;\n",
       "    }\n",
       "\n",
       "    .dataframe thead th {\n",
       "        text-align: right;\n",
       "    }\n",
       "</style>\n",
       "<table border=\"1\" class=\"dataframe\">\n",
       "  <thead>\n",
       "    <tr style=\"text-align: right;\">\n",
       "      <th></th>\n",
       "      <th>title</th>\n",
       "      <th>commentCount</th>\n",
       "      <th>dislikeCount</th>\n",
       "      <th>likeCount</th>\n",
       "      <th>music_style</th>\n",
       "      <th>performer</th>\n",
       "      <th>viewCount</th>\n",
       "      <th>commentators_uniq</th>\n",
       "      <th>comments_obscene_cnt</th>\n",
       "      <th>video_age</th>\n",
       "    </tr>\n",
       "  </thead>\n",
       "  <tbody>\n",
       "    <tr>\n",
       "      <th>186</th>\n",
       "      <td>#2Маши \"МАМА, Я ТАНЦУЮ \" [ ПРЕМЬЕРА КЛИПА ]</td>\n",
       "      <td>4090.0</td>\n",
       "      <td>14079.0</td>\n",
       "      <td>162063.0</td>\n",
       "      <td>popsa</td>\n",
       "      <td>2маши</td>\n",
       "      <td>38074573.0</td>\n",
       "      <td>934.0</td>\n",
       "      <td>35.0</td>\n",
       "      <td>105</td>\n",
       "    </tr>\n",
       "    <tr>\n",
       "      <th>205</th>\n",
       "      <td>#2Маши - Босая</td>\n",
       "      <td>7644.0</td>\n",
       "      <td>35087.0</td>\n",
       "      <td>263755.0</td>\n",
       "      <td>popsa</td>\n",
       "      <td>2маши</td>\n",
       "      <td>115832162.0</td>\n",
       "      <td>1181.0</td>\n",
       "      <td>60.0</td>\n",
       "      <td>349</td>\n",
       "    </tr>\n",
       "    <tr>\n",
       "      <th>288</th>\n",
       "      <td>#ДАВАЙДОСВИДАНИЯ (OFFICIAL VIDEO)</td>\n",
       "      <td>28443.0</td>\n",
       "      <td>34226.0</td>\n",
       "      <td>191561.0</td>\n",
       "      <td>rap</td>\n",
       "      <td>тимати</td>\n",
       "      <td>44347386.0</td>\n",
       "      <td>925.0</td>\n",
       "      <td>90.0</td>\n",
       "      <td>2465</td>\n",
       "    </tr>\n",
       "    <tr>\n",
       "      <th>305</th>\n",
       "      <td>#КокаПелла - Розовое вино / Элджей &amp; Feduk (ac...</td>\n",
       "      <td>20142.0</td>\n",
       "      <td>10233.0</td>\n",
       "      <td>301546.0</td>\n",
       "      <td>popsa</td>\n",
       "      <td>кока</td>\n",
       "      <td>6291417.0</td>\n",
       "      <td>948.0</td>\n",
       "      <td>14.0</td>\n",
       "      <td>493</td>\n",
       "    </tr>\n",
       "    <tr>\n",
       "      <th>306</th>\n",
       "      <td>#КокаПелла - Тролль / Время и Стекло (acapella...</td>\n",
       "      <td>11136.0</td>\n",
       "      <td>4784.0</td>\n",
       "      <td>140462.0</td>\n",
       "      <td>popsa</td>\n",
       "      <td>кока</td>\n",
       "      <td>2501595.0</td>\n",
       "      <td>929.0</td>\n",
       "      <td>6.0</td>\n",
       "      <td>465</td>\n",
       "    </tr>\n",
       "    <tr>\n",
       "      <th>...</th>\n",
       "      <td>...</td>\n",
       "      <td>...</td>\n",
       "      <td>...</td>\n",
       "      <td>...</td>\n",
       "      <td>...</td>\n",
       "      <td>...</td>\n",
       "      <td>...</td>\n",
       "      <td>...</td>\n",
       "      <td>...</td>\n",
       "      <td>...</td>\n",
       "    </tr>\n",
       "    <tr>\n",
       "      <th>18672</th>\n",
       "      <td>Элджей - Hey, Guys</td>\n",
       "      <td>34567.0</td>\n",
       "      <td>98070.0</td>\n",
       "      <td>203876.0</td>\n",
       "      <td>rap</td>\n",
       "      <td>элджей</td>\n",
       "      <td>21197605.0</td>\n",
       "      <td>1766.0</td>\n",
       "      <td>192.0</td>\n",
       "      <td>394</td>\n",
       "    </tr>\n",
       "    <tr>\n",
       "      <th>18680</th>\n",
       "      <td>Элджей - Suzuki</td>\n",
       "      <td>35803.0</td>\n",
       "      <td>96719.0</td>\n",
       "      <td>193707.0</td>\n",
       "      <td>rap</td>\n",
       "      <td>элджей</td>\n",
       "      <td>14184126.0</td>\n",
       "      <td>3611.0</td>\n",
       "      <td>513.0</td>\n",
       "      <td>302</td>\n",
       "    </tr>\n",
       "    <tr>\n",
       "      <th>18692</th>\n",
       "      <td>Элджей - Минимал</td>\n",
       "      <td>53905.0</td>\n",
       "      <td>90203.0</td>\n",
       "      <td>400063.0</td>\n",
       "      <td>rap</td>\n",
       "      <td>элджей</td>\n",
       "      <td>33412052.0</td>\n",
       "      <td>3527.0</td>\n",
       "      <td>378.0</td>\n",
       "      <td>344</td>\n",
       "    </tr>\n",
       "    <tr>\n",
       "      <th>18693</th>\n",
       "      <td>Элджей - Минимал</td>\n",
       "      <td>16257.0</td>\n",
       "      <td>21892.0</td>\n",
       "      <td>233847.0</td>\n",
       "      <td>rap</td>\n",
       "      <td>элджей</td>\n",
       "      <td>49683768.0</td>\n",
       "      <td>3527.0</td>\n",
       "      <td>378.0</td>\n",
       "      <td>458</td>\n",
       "    </tr>\n",
       "    <tr>\n",
       "      <th>18698</th>\n",
       "      <td>Элджей - Рваные джинсы</td>\n",
       "      <td>54281.0</td>\n",
       "      <td>95562.0</td>\n",
       "      <td>593238.0</td>\n",
       "      <td>rap</td>\n",
       "      <td>элджей</td>\n",
       "      <td>92509057.0</td>\n",
       "      <td>2058.0</td>\n",
       "      <td>127.0</td>\n",
       "      <td>541</td>\n",
       "    </tr>\n",
       "  </tbody>\n",
       "</table>\n",
       "<p>189 rows × 10 columns</p>\n",
       "</div>"
      ],
      "text/plain": [
       "                                                   title  commentCount  \\\n",
       "186          #2Маши \"МАМА, Я ТАНЦУЮ \" [ ПРЕМЬЕРА КЛИПА ]        4090.0   \n",
       "205                                       #2Маши - Босая        7644.0   \n",
       "288                    #ДАВАЙДОСВИДАНИЯ (OFFICIAL VIDEO)       28443.0   \n",
       "305    #КокаПелла - Розовое вино / Элджей & Feduk (ac...       20142.0   \n",
       "306    #КокаПелла - Тролль / Время и Стекло (acapella...       11136.0   \n",
       "...                                                  ...           ...   \n",
       "18672                                 Элджей - Hey, Guys       34567.0   \n",
       "18680                                    Элджей - Suzuki       35803.0   \n",
       "18692                                   Элджей - Минимал       53905.0   \n",
       "18693                                   Элджей - Минимал       16257.0   \n",
       "18698                             Элджей - Рваные джинсы       54281.0   \n",
       "\n",
       "       dislikeCount  likeCount music_style performer    viewCount  \\\n",
       "186         14079.0   162063.0       popsa     2маши   38074573.0   \n",
       "205         35087.0   263755.0       popsa     2маши  115832162.0   \n",
       "288         34226.0   191561.0         rap    тимати   44347386.0   \n",
       "305         10233.0   301546.0       popsa      кока    6291417.0   \n",
       "306          4784.0   140462.0       popsa      кока    2501595.0   \n",
       "...             ...        ...         ...       ...          ...   \n",
       "18672       98070.0   203876.0         rap    элджей   21197605.0   \n",
       "18680       96719.0   193707.0         rap    элджей   14184126.0   \n",
       "18692       90203.0   400063.0         rap    элджей   33412052.0   \n",
       "18693       21892.0   233847.0         rap    элджей   49683768.0   \n",
       "18698       95562.0   593238.0         rap    элджей   92509057.0   \n",
       "\n",
       "       commentators_uniq  comments_obscene_cnt  video_age  \n",
       "186                934.0                  35.0        105  \n",
       "205               1181.0                  60.0        349  \n",
       "288                925.0                  90.0       2465  \n",
       "305                948.0                  14.0        493  \n",
       "306                929.0                   6.0        465  \n",
       "...                  ...                   ...        ...  \n",
       "18672             1766.0                 192.0        394  \n",
       "18680             3611.0                 513.0        302  \n",
       "18692             3527.0                 378.0        344  \n",
       "18693             3527.0                 378.0        458  \n",
       "18698             2058.0                 127.0        541  \n",
       "\n",
       "[189 rows x 10 columns]"
      ]
     },
     "execution_count": 23,
     "metadata": {},
     "output_type": "execute_result"
    }
   ],
   "source": [
    "# выводим таблицу, в которой остались только клипы, у которых лайков больше 99% квантиля\n",
    "df[df.likeCount > q]"
   ]
  },
  {
   "cell_type": "code",
   "execution_count": 24,
   "metadata": {},
   "outputs": [
    {
     "data": {
      "text/plain": [
       "rap        108\n",
       "popsa       36\n",
       "rock        19\n",
       "classic     18\n",
       "indi         7\n",
       "estrada      1\n",
       "Name: music_style, dtype: int64"
      ]
     },
     "execution_count": 24,
     "metadata": {},
     "output_type": "execute_result"
    }
   ],
   "source": [
    "x = df[df.likeCount > q].music_style\n",
    "x.value_counts() # выводим количество клипов с лайками выше 99% по музыкальным жанрам"
   ]
  },
  {
   "cell_type": "markdown",
   "metadata": {},
   "source": [
    "### 2.5 Хочу всё и сразу\n",
    "\n",
    "**Метод describe** считает всё и сразу! "
   ]
  },
  {
   "cell_type": "code",
   "execution_count": 25,
   "metadata": {},
   "outputs": [
    {
     "data": {
      "text/html": [
       "<div>\n",
       "<style scoped>\n",
       "    .dataframe tbody tr th:only-of-type {\n",
       "        vertical-align: middle;\n",
       "    }\n",
       "\n",
       "    .dataframe tbody tr th {\n",
       "        vertical-align: top;\n",
       "    }\n",
       "\n",
       "    .dataframe thead th {\n",
       "        text-align: right;\n",
       "    }\n",
       "</style>\n",
       "<table border=\"1\" class=\"dataframe\">\n",
       "  <thead>\n",
       "    <tr style=\"text-align: right;\">\n",
       "      <th></th>\n",
       "      <th>commentCount</th>\n",
       "      <th>dislikeCount</th>\n",
       "      <th>likeCount</th>\n",
       "      <th>viewCount</th>\n",
       "      <th>commentators_uniq</th>\n",
       "      <th>comments_obscene_cnt</th>\n",
       "      <th>video_age</th>\n",
       "    </tr>\n",
       "  </thead>\n",
       "  <tbody>\n",
       "    <tr>\n",
       "      <th>count</th>\n",
       "      <td>18914.000000</td>\n",
       "      <td>18850.000000</td>\n",
       "      <td>1.885000e+04</td>\n",
       "      <td>1.912300e+04</td>\n",
       "      <td>12314.000000</td>\n",
       "      <td>12314.000000</td>\n",
       "      <td>19124.000000</td>\n",
       "    </tr>\n",
       "    <tr>\n",
       "      <th>mean</th>\n",
       "      <td>394.026065</td>\n",
       "      <td>745.344297</td>\n",
       "      <td>5.735014e+03</td>\n",
       "      <td>8.436486e+05</td>\n",
       "      <td>131.594608</td>\n",
       "      <td>8.952899</td>\n",
       "      <td>1389.772642</td>\n",
       "    </tr>\n",
       "    <tr>\n",
       "      <th>std</th>\n",
       "      <td>4200.463284</td>\n",
       "      <td>9339.777800</td>\n",
       "      <td>3.890303e+04</td>\n",
       "      <td>6.382348e+06</td>\n",
       "      <td>333.584804</td>\n",
       "      <td>37.887947</td>\n",
       "      <td>1054.261698</td>\n",
       "    </tr>\n",
       "    <tr>\n",
       "      <th>min</th>\n",
       "      <td>0.000000</td>\n",
       "      <td>0.000000</td>\n",
       "      <td>0.000000e+00</td>\n",
       "      <td>0.000000e+00</td>\n",
       "      <td>1.000000</td>\n",
       "      <td>0.000000</td>\n",
       "      <td>0.000000</td>\n",
       "    </tr>\n",
       "    <tr>\n",
       "      <th>25%</th>\n",
       "      <td>0.000000</td>\n",
       "      <td>1.000000</td>\n",
       "      <td>1.800000e+01</td>\n",
       "      <td>1.915000e+03</td>\n",
       "      <td>4.000000</td>\n",
       "      <td>0.000000</td>\n",
       "      <td>378.000000</td>\n",
       "    </tr>\n",
       "    <tr>\n",
       "      <th>50%</th>\n",
       "      <td>5.000000</td>\n",
       "      <td>5.000000</td>\n",
       "      <td>1.000000e+02</td>\n",
       "      <td>1.135300e+04</td>\n",
       "      <td>13.000000</td>\n",
       "      <td>0.000000</td>\n",
       "      <td>1213.000000</td>\n",
       "    </tr>\n",
       "    <tr>\n",
       "      <th>75%</th>\n",
       "      <td>35.000000</td>\n",
       "      <td>38.000000</td>\n",
       "      <td>6.367500e+02</td>\n",
       "      <td>8.180900e+04</td>\n",
       "      <td>61.000000</td>\n",
       "      <td>2.000000</td>\n",
       "      <td>2218.000000</td>\n",
       "    </tr>\n",
       "    <tr>\n",
       "      <th>max</th>\n",
       "      <td>303077.000000</td>\n",
       "      <td>640698.000000</td>\n",
       "      <td>1.686810e+06</td>\n",
       "      <td>2.720477e+08</td>\n",
       "      <td>3702.000000</td>\n",
       "      <td>693.000000</td>\n",
       "      <td>4574.000000</td>\n",
       "    </tr>\n",
       "  </tbody>\n",
       "</table>\n",
       "</div>"
      ],
      "text/plain": [
       "        commentCount   dislikeCount     likeCount     viewCount  \\\n",
       "count   18914.000000   18850.000000  1.885000e+04  1.912300e+04   \n",
       "mean      394.026065     745.344297  5.735014e+03  8.436486e+05   \n",
       "std      4200.463284    9339.777800  3.890303e+04  6.382348e+06   \n",
       "min         0.000000       0.000000  0.000000e+00  0.000000e+00   \n",
       "25%         0.000000       1.000000  1.800000e+01  1.915000e+03   \n",
       "50%         5.000000       5.000000  1.000000e+02  1.135300e+04   \n",
       "75%        35.000000      38.000000  6.367500e+02  8.180900e+04   \n",
       "max    303077.000000  640698.000000  1.686810e+06  2.720477e+08   \n",
       "\n",
       "       commentators_uniq  comments_obscene_cnt     video_age  \n",
       "count       12314.000000          12314.000000  19124.000000  \n",
       "mean          131.594608              8.952899   1389.772642  \n",
       "std           333.584804             37.887947   1054.261698  \n",
       "min             1.000000              0.000000      0.000000  \n",
       "25%             4.000000              0.000000    378.000000  \n",
       "50%            13.000000              0.000000   1213.000000  \n",
       "75%            61.000000              2.000000   2218.000000  \n",
       "max          3702.000000            693.000000   4574.000000  "
      ]
     },
     "execution_count": 25,
     "metadata": {},
     "output_type": "execute_result"
    }
   ],
   "source": [
    "df.describe()"
   ]
  },
  {
   "cell_type": "markdown",
   "metadata": {},
   "source": [
    "Для каждой переменной мы видим: \n",
    "\n",
    "* `count` - число наблюдений, которое есть без пропусков\n",
    "* `mean` - среднее значение\n",
    "* `std` - стандартное отклонение\n",
    "* `min` -  минимум\n",
    "* `max` -  максимум\n",
    "* `50%` -  медиана (половина выборки больше неё, половина меньше)\n",
    "* `25%` -  25% квантиль (четверть выборки меньше, 75% больше)\n",
    "* `75%` -  75% квантиль"
   ]
  },
  {
   "cell_type": "markdown",
   "metadata": {},
   "source": [
    "Можно построить такую же табличку только для категориальных переменных. \n"
   ]
  },
  {
   "cell_type": "code",
   "execution_count": 26,
   "metadata": {},
   "outputs": [
    {
     "data": {
      "text/plain": [
       "title                    object\n",
       "commentCount            float64\n",
       "dislikeCount            float64\n",
       "likeCount               float64\n",
       "music_style              object\n",
       "performer                object\n",
       "viewCount               float64\n",
       "commentators_uniq       float64\n",
       "comments_obscene_cnt    float64\n",
       "video_age                 int64\n",
       "dtype: object"
      ]
     },
     "execution_count": 26,
     "metadata": {},
     "output_type": "execute_result"
    }
   ],
   "source": [
    "df.dtypes"
   ]
  },
  {
   "cell_type": "code",
   "execution_count": 27,
   "metadata": {},
   "outputs": [
    {
     "data": {
      "text/html": [
       "<div>\n",
       "<style scoped>\n",
       "    .dataframe tbody tr th:only-of-type {\n",
       "        vertical-align: middle;\n",
       "    }\n",
       "\n",
       "    .dataframe tbody tr th {\n",
       "        vertical-align: top;\n",
       "    }\n",
       "\n",
       "    .dataframe thead th {\n",
       "        text-align: right;\n",
       "    }\n",
       "</style>\n",
       "<table border=\"1\" class=\"dataframe\">\n",
       "  <thead>\n",
       "    <tr style=\"text-align: right;\">\n",
       "      <th></th>\n",
       "      <th>commentCount</th>\n",
       "      <th>dislikeCount</th>\n",
       "      <th>likeCount</th>\n",
       "      <th>viewCount</th>\n",
       "      <th>commentators_uniq</th>\n",
       "      <th>comments_obscene_cnt</th>\n",
       "    </tr>\n",
       "  </thead>\n",
       "  <tbody>\n",
       "    <tr>\n",
       "      <th>count</th>\n",
       "      <td>18914.000000</td>\n",
       "      <td>18850.000000</td>\n",
       "      <td>1.885000e+04</td>\n",
       "      <td>1.912300e+04</td>\n",
       "      <td>12314.000000</td>\n",
       "      <td>12314.000000</td>\n",
       "    </tr>\n",
       "    <tr>\n",
       "      <th>mean</th>\n",
       "      <td>394.026065</td>\n",
       "      <td>745.344297</td>\n",
       "      <td>5.735014e+03</td>\n",
       "      <td>8.436486e+05</td>\n",
       "      <td>131.594608</td>\n",
       "      <td>8.952899</td>\n",
       "    </tr>\n",
       "    <tr>\n",
       "      <th>std</th>\n",
       "      <td>4200.463284</td>\n",
       "      <td>9339.777800</td>\n",
       "      <td>3.890303e+04</td>\n",
       "      <td>6.382348e+06</td>\n",
       "      <td>333.584804</td>\n",
       "      <td>37.887947</td>\n",
       "    </tr>\n",
       "    <tr>\n",
       "      <th>min</th>\n",
       "      <td>0.000000</td>\n",
       "      <td>0.000000</td>\n",
       "      <td>0.000000e+00</td>\n",
       "      <td>0.000000e+00</td>\n",
       "      <td>1.000000</td>\n",
       "      <td>0.000000</td>\n",
       "    </tr>\n",
       "    <tr>\n",
       "      <th>25%</th>\n",
       "      <td>0.000000</td>\n",
       "      <td>1.000000</td>\n",
       "      <td>1.800000e+01</td>\n",
       "      <td>1.915000e+03</td>\n",
       "      <td>4.000000</td>\n",
       "      <td>0.000000</td>\n",
       "    </tr>\n",
       "    <tr>\n",
       "      <th>50%</th>\n",
       "      <td>5.000000</td>\n",
       "      <td>5.000000</td>\n",
       "      <td>1.000000e+02</td>\n",
       "      <td>1.135300e+04</td>\n",
       "      <td>13.000000</td>\n",
       "      <td>0.000000</td>\n",
       "    </tr>\n",
       "    <tr>\n",
       "      <th>75%</th>\n",
       "      <td>35.000000</td>\n",
       "      <td>38.000000</td>\n",
       "      <td>6.367500e+02</td>\n",
       "      <td>8.180900e+04</td>\n",
       "      <td>61.000000</td>\n",
       "      <td>2.000000</td>\n",
       "    </tr>\n",
       "    <tr>\n",
       "      <th>max</th>\n",
       "      <td>303077.000000</td>\n",
       "      <td>640698.000000</td>\n",
       "      <td>1.686810e+06</td>\n",
       "      <td>2.720477e+08</td>\n",
       "      <td>3702.000000</td>\n",
       "      <td>693.000000</td>\n",
       "    </tr>\n",
       "  </tbody>\n",
       "</table>\n",
       "</div>"
      ],
      "text/plain": [
       "        commentCount   dislikeCount     likeCount     viewCount  \\\n",
       "count   18914.000000   18850.000000  1.885000e+04  1.912300e+04   \n",
       "mean      394.026065     745.344297  5.735014e+03  8.436486e+05   \n",
       "std      4200.463284    9339.777800  3.890303e+04  6.382348e+06   \n",
       "min         0.000000       0.000000  0.000000e+00  0.000000e+00   \n",
       "25%         0.000000       1.000000  1.800000e+01  1.915000e+03   \n",
       "50%         5.000000       5.000000  1.000000e+02  1.135300e+04   \n",
       "75%        35.000000      38.000000  6.367500e+02  8.180900e+04   \n",
       "max    303077.000000  640698.000000  1.686810e+06  2.720477e+08   \n",
       "\n",
       "       commentators_uniq  comments_obscene_cnt  \n",
       "count       12314.000000          12314.000000  \n",
       "mean          131.594608              8.952899  \n",
       "std           333.584804             37.887947  \n",
       "min             1.000000              0.000000  \n",
       "25%             4.000000              0.000000  \n",
       "50%            13.000000              0.000000  \n",
       "75%            61.000000              2.000000  \n",
       "max          3702.000000            693.000000  "
      ]
     },
     "execution_count": 27,
     "metadata": {},
     "output_type": "execute_result"
    }
   ],
   "source": [
    "df.describe(include='float64')"
   ]
  },
  {
   "cell_type": "markdown",
   "metadata": {},
   "source": [
    "* `count` -  число наблюдений, которое есть без пропусков\n",
    "* `unique` - число уникальных значений (категорий), которые принимает переменная\n",
    "* `top` - мода для каждой категории\n",
    "* `freq` - частота, с которой встречается мода"
   ]
  },
  {
   "cell_type": "markdown",
   "metadata": {},
   "source": [
    "# 3. Группировка\n",
    "\n",
    "Если бы нас попросили посчитать, какое среднее число лайков ставят под видео разных жанров, мы могли бы узнать ответ с помощью срезов. "
   ]
  },
  {
   "cell_type": "code",
   "execution_count": 28,
   "metadata": {},
   "outputs": [
    {
     "data": {
      "text/html": [
       "<div>\n",
       "<style scoped>\n",
       "    .dataframe tbody tr th:only-of-type {\n",
       "        vertical-align: middle;\n",
       "    }\n",
       "\n",
       "    .dataframe tbody tr th {\n",
       "        vertical-align: top;\n",
       "    }\n",
       "\n",
       "    .dataframe thead th {\n",
       "        text-align: right;\n",
       "    }\n",
       "</style>\n",
       "<table border=\"1\" class=\"dataframe\">\n",
       "  <thead>\n",
       "    <tr style=\"text-align: right;\">\n",
       "      <th></th>\n",
       "      <th>title</th>\n",
       "      <th>commentCount</th>\n",
       "      <th>dislikeCount</th>\n",
       "      <th>likeCount</th>\n",
       "      <th>music_style</th>\n",
       "      <th>performer</th>\n",
       "      <th>viewCount</th>\n",
       "      <th>commentators_uniq</th>\n",
       "      <th>comments_obscene_cnt</th>\n",
       "      <th>video_age</th>\n",
       "    </tr>\n",
       "  </thead>\n",
       "  <tbody>\n",
       "    <tr>\n",
       "      <th>232</th>\n",
       "      <td>#BSM - Будь собой (official video)</td>\n",
       "      <td>156.0</td>\n",
       "      <td>1033.0</td>\n",
       "      <td>1859.0</td>\n",
       "      <td>rap</td>\n",
       "      <td>тимати</td>\n",
       "      <td>558557.0</td>\n",
       "      <td>128.0</td>\n",
       "      <td>20.0</td>\n",
       "      <td>2689</td>\n",
       "    </tr>\n",
       "    <tr>\n",
       "      <th>233</th>\n",
       "      <td>#BSM - Будь собой (track)</td>\n",
       "      <td>24.0</td>\n",
       "      <td>95.0</td>\n",
       "      <td>230.0</td>\n",
       "      <td>rap</td>\n",
       "      <td>тимати</td>\n",
       "      <td>60981.0</td>\n",
       "      <td>22.0</td>\n",
       "      <td>0.0</td>\n",
       "      <td>2699</td>\n",
       "    </tr>\n",
       "    <tr>\n",
       "      <th>234</th>\n",
       "      <td>#BSM COMING SOON</td>\n",
       "      <td>27.0</td>\n",
       "      <td>52.0</td>\n",
       "      <td>225.0</td>\n",
       "      <td>rap</td>\n",
       "      <td>тимати</td>\n",
       "      <td>68296.0</td>\n",
       "      <td>19.0</td>\n",
       "      <td>2.0</td>\n",
       "      <td>2713</td>\n",
       "    </tr>\n",
       "    <tr>\n",
       "      <th>235</th>\n",
       "      <td>#GazgolderLive</td>\n",
       "      <td>0.0</td>\n",
       "      <td>38.0</td>\n",
       "      <td>108.0</td>\n",
       "      <td>rap</td>\n",
       "      <td>gazgolder</td>\n",
       "      <td>0.0</td>\n",
       "      <td>NaN</td>\n",
       "      <td>NaN</td>\n",
       "      <td>377</td>\n",
       "    </tr>\n",
       "    <tr>\n",
       "      <th>236</th>\n",
       "      <td>#GazgolderLive</td>\n",
       "      <td>0.0</td>\n",
       "      <td>49.0</td>\n",
       "      <td>264.0</td>\n",
       "      <td>rap</td>\n",
       "      <td>gazgolder</td>\n",
       "      <td>0.0</td>\n",
       "      <td>NaN</td>\n",
       "      <td>NaN</td>\n",
       "      <td>378</td>\n",
       "    </tr>\n",
       "    <tr>\n",
       "      <th>...</th>\n",
       "      <td>...</td>\n",
       "      <td>...</td>\n",
       "      <td>...</td>\n",
       "      <td>...</td>\n",
       "      <td>...</td>\n",
       "      <td>...</td>\n",
       "      <td>...</td>\n",
       "      <td>...</td>\n",
       "      <td>...</td>\n",
       "      <td>...</td>\n",
       "    </tr>\n",
       "    <tr>\n",
       "      <th>19034</th>\n",
       "      <td>бтл булгари федук</td>\n",
       "      <td>12.0</td>\n",
       "      <td>4.0</td>\n",
       "      <td>117.0</td>\n",
       "      <td>rap</td>\n",
       "      <td>feduk</td>\n",
       "      <td>14137.0</td>\n",
       "      <td>10.0</td>\n",
       "      <td>0.0</td>\n",
       "      <td>2745</td>\n",
       "    </tr>\n",
       "    <tr>\n",
       "      <th>19047</th>\n",
       "      <td>г.Неаполь, Италия 2010 год Карина Кокс</td>\n",
       "      <td>6.0</td>\n",
       "      <td>5.0</td>\n",
       "      <td>31.0</td>\n",
       "      <td>rap</td>\n",
       "      <td>тимати</td>\n",
       "      <td>21319.0</td>\n",
       "      <td>NaN</td>\n",
       "      <td>NaN</td>\n",
       "      <td>3074</td>\n",
       "    </tr>\n",
       "    <tr>\n",
       "      <th>19078</th>\n",
       "      <td>летний фрист</td>\n",
       "      <td>13.0</td>\n",
       "      <td>7.0</td>\n",
       "      <td>119.0</td>\n",
       "      <td>rap</td>\n",
       "      <td>feduk</td>\n",
       "      <td>9129.0</td>\n",
       "      <td>9.0</td>\n",
       "      <td>0.0</td>\n",
       "      <td>2560</td>\n",
       "    </tr>\n",
       "    <tr>\n",
       "      <th>19101</th>\n",
       "      <td>презентация альбома Тимати The Boss в Киеве (У...</td>\n",
       "      <td>3.0</td>\n",
       "      <td>7.0</td>\n",
       "      <td>29.0</td>\n",
       "      <td>rap</td>\n",
       "      <td>тимати</td>\n",
       "      <td>14927.0</td>\n",
       "      <td>2.0</td>\n",
       "      <td>0.0</td>\n",
       "      <td>3319</td>\n",
       "    </tr>\n",
       "    <tr>\n",
       "      <th>19121</th>\n",
       "      <td>モスクワライブショー ' 17</td>\n",
       "      <td>4872.0</td>\n",
       "      <td>15494.0</td>\n",
       "      <td>30603.0</td>\n",
       "      <td>rap</td>\n",
       "      <td>элджей</td>\n",
       "      <td>1187340.0</td>\n",
       "      <td>1788.0</td>\n",
       "      <td>352.0</td>\n",
       "      <td>339</td>\n",
       "    </tr>\n",
       "  </tbody>\n",
       "</table>\n",
       "<p>2028 rows × 10 columns</p>\n",
       "</div>"
      ],
      "text/plain": [
       "                                                   title  commentCount  \\\n",
       "232                   #BSM - Будь собой (official video)         156.0   \n",
       "233                            #BSM - Будь собой (track)          24.0   \n",
       "234                                     #BSM COMING SOON          27.0   \n",
       "235                                       #GazgolderLive           0.0   \n",
       "236                                       #GazgolderLive           0.0   \n",
       "...                                                  ...           ...   \n",
       "19034                                  бтл булгари федук          12.0   \n",
       "19047             г.Неаполь, Италия 2010 год Карина Кокс           6.0   \n",
       "19078                                       летний фрист          13.0   \n",
       "19101  презентация альбома Тимати The Boss в Киеве (У...           3.0   \n",
       "19121                                    モスクワライブショー ' 17        4872.0   \n",
       "\n",
       "       dislikeCount  likeCount music_style  performer  viewCount  \\\n",
       "232          1033.0     1859.0         rap     тимати   558557.0   \n",
       "233            95.0      230.0         rap     тимати    60981.0   \n",
       "234            52.0      225.0         rap     тимати    68296.0   \n",
       "235            38.0      108.0         rap  gazgolder        0.0   \n",
       "236            49.0      264.0         rap  gazgolder        0.0   \n",
       "...             ...        ...         ...        ...        ...   \n",
       "19034           4.0      117.0         rap      feduk    14137.0   \n",
       "19047           5.0       31.0         rap     тимати    21319.0   \n",
       "19078           7.0      119.0         rap      feduk     9129.0   \n",
       "19101           7.0       29.0         rap     тимати    14927.0   \n",
       "19121       15494.0    30603.0         rap     элджей  1187340.0   \n",
       "\n",
       "       commentators_uniq  comments_obscene_cnt  video_age  \n",
       "232                128.0                  20.0       2689  \n",
       "233                 22.0                   0.0       2699  \n",
       "234                 19.0                   2.0       2713  \n",
       "235                  NaN                   NaN        377  \n",
       "236                  NaN                   NaN        378  \n",
       "...                  ...                   ...        ...  \n",
       "19034               10.0                   0.0       2745  \n",
       "19047                NaN                   NaN       3074  \n",
       "19078                9.0                   0.0       2560  \n",
       "19101                2.0                   0.0       3319  \n",
       "19121             1788.0                 352.0        339  \n",
       "\n",
       "[2028 rows x 10 columns]"
      ]
     },
     "execution_count": 28,
     "metadata": {},
     "output_type": "execute_result"
    }
   ],
   "source": [
    "df[df.music_style == 'rap']"
   ]
  },
  {
   "cell_type": "code",
   "execution_count": 29,
   "metadata": {},
   "outputs": [
    {
     "data": {
      "text/plain": [
       "26802.456253089473"
      ]
     },
     "execution_count": 29,
     "metadata": {},
     "output_type": "execute_result"
    }
   ],
   "source": [
    "df[df.music_style == 'rap'].likeCount.mean() # срез под рэп, считает среднее количество лайков"
   ]
  },
  {
   "cell_type": "code",
   "execution_count": 30,
   "metadata": {},
   "outputs": [
    {
     "data": {
      "text/plain": [
       "7492.273791654158"
      ]
     },
     "execution_count": 30,
     "metadata": {},
     "output_type": "execute_result"
    }
   ],
   "source": [
    "df[df.music_style == 'popsa'].likeCount.mean()"
   ]
  },
  {
   "cell_type": "markdown",
   "metadata": {},
   "source": [
    "Такой код надо продублировать для каждого жанра. Это не очень эффективно. Чтобы так не делать, придумали группировки. Их обычно делают с помощью метода `groupby`."
   ]
  },
  {
   "cell_type": "code",
   "execution_count": 31,
   "metadata": {},
   "outputs": [
    {
     "data": {
      "text/html": [
       "<div>\n",
       "<style scoped>\n",
       "    .dataframe tbody tr th:only-of-type {\n",
       "        vertical-align: middle;\n",
       "    }\n",
       "\n",
       "    .dataframe tbody tr th {\n",
       "        vertical-align: top;\n",
       "    }\n",
       "\n",
       "    .dataframe thead th {\n",
       "        text-align: right;\n",
       "    }\n",
       "</style>\n",
       "<table border=\"1\" class=\"dataframe\">\n",
       "  <thead>\n",
       "    <tr style=\"text-align: right;\">\n",
       "      <th></th>\n",
       "      <th>mean</th>\n",
       "      <th>min</th>\n",
       "      <th>max</th>\n",
       "    </tr>\n",
       "    <tr>\n",
       "      <th>music_style</th>\n",
       "      <th></th>\n",
       "      <th></th>\n",
       "      <th></th>\n",
       "    </tr>\n",
       "  </thead>\n",
       "  <tbody>\n",
       "    <tr>\n",
       "      <th>classic</th>\n",
       "      <td>28663.333333</td>\n",
       "      <td>1.0</td>\n",
       "      <td>849676.0</td>\n",
       "    </tr>\n",
       "    <tr>\n",
       "      <th>estrada</th>\n",
       "      <td>938.686662</td>\n",
       "      <td>0.0</td>\n",
       "      <td>377957.0</td>\n",
       "    </tr>\n",
       "    <tr>\n",
       "      <th>indi</th>\n",
       "      <td>2471.842299</td>\n",
       "      <td>0.0</td>\n",
       "      <td>389416.0</td>\n",
       "    </tr>\n",
       "    <tr>\n",
       "      <th>popsa</th>\n",
       "      <td>7492.273792</td>\n",
       "      <td>0.0</td>\n",
       "      <td>698902.0</td>\n",
       "    </tr>\n",
       "    <tr>\n",
       "      <th>rap</th>\n",
       "      <td>26802.456253</td>\n",
       "      <td>6.0</td>\n",
       "      <td>1686810.0</td>\n",
       "    </tr>\n",
       "    <tr>\n",
       "      <th>rock</th>\n",
       "      <td>2132.887061</td>\n",
       "      <td>0.0</td>\n",
       "      <td>827118.0</td>\n",
       "    </tr>\n",
       "    <tr>\n",
       "      <th>shanson</th>\n",
       "      <td>440.390564</td>\n",
       "      <td>0.0</td>\n",
       "      <td>85023.0</td>\n",
       "    </tr>\n",
       "  </tbody>\n",
       "</table>\n",
       "</div>"
      ],
      "text/plain": [
       "                     mean  min        max\n",
       "music_style                              \n",
       "classic      28663.333333  1.0   849676.0\n",
       "estrada        938.686662  0.0   377957.0\n",
       "indi          2471.842299  0.0   389416.0\n",
       "popsa         7492.273792  0.0   698902.0\n",
       "rap          26802.456253  6.0  1686810.0\n",
       "rock          2132.887061  0.0   827118.0\n",
       "shanson        440.390564  0.0    85023.0"
      ]
     },
     "execution_count": 31,
     "metadata": {},
     "output_type": "execute_result"
    }
   ],
   "source": [
    "df.groupby('music_style').likeCount.agg(['mean', 'min', 'max'])"
   ]
  },
  {
   "cell_type": "code",
   "execution_count": 52,
   "metadata": {},
   "outputs": [
    {
     "data": {
      "text/html": [
       "<div>\n",
       "<style scoped>\n",
       "    .dataframe tbody tr th:only-of-type {\n",
       "        vertical-align: middle;\n",
       "    }\n",
       "\n",
       "    .dataframe tbody tr th {\n",
       "        vertical-align: top;\n",
       "    }\n",
       "\n",
       "    .dataframe thead tr th {\n",
       "        text-align: left;\n",
       "    }\n",
       "\n",
       "    .dataframe thead tr:last-of-type th {\n",
       "        text-align: right;\n",
       "    }\n",
       "</style>\n",
       "<table border=\"1\" class=\"dataframe\">\n",
       "  <thead>\n",
       "    <tr>\n",
       "      <th></th>\n",
       "      <th></th>\n",
       "      <th colspan=\"2\" halign=\"left\">likeCount</th>\n",
       "      <th colspan=\"2\" halign=\"left\">dislikeCount</th>\n",
       "    </tr>\n",
       "    <tr>\n",
       "      <th></th>\n",
       "      <th></th>\n",
       "      <th>mean</th>\n",
       "      <th>count</th>\n",
       "      <th>mean</th>\n",
       "      <th>count</th>\n",
       "    </tr>\n",
       "    <tr>\n",
       "      <th>music_style</th>\n",
       "      <th>performer</th>\n",
       "      <th></th>\n",
       "      <th></th>\n",
       "      <th></th>\n",
       "      <th></th>\n",
       "    </tr>\n",
       "  </thead>\n",
       "  <tbody>\n",
       "    <tr>\n",
       "      <th>classic</th>\n",
       "      <th>classical_channel</th>\n",
       "      <td>28663.333333</td>\n",
       "      <td>297</td>\n",
       "      <td>1236.228956</td>\n",
       "      <td>297</td>\n",
       "    </tr>\n",
       "    <tr>\n",
       "      <th rowspan=\"4\" valign=\"top\">estrada</th>\n",
       "      <th>агутин</th>\n",
       "      <td>39.333333</td>\n",
       "      <td>3</td>\n",
       "      <td>4.666667</td>\n",
       "      <td>3</td>\n",
       "    </tr>\n",
       "    <tr>\n",
       "      <th>басков</th>\n",
       "      <td>1582.721311</td>\n",
       "      <td>122</td>\n",
       "      <td>233.270492</td>\n",
       "      <td>122</td>\n",
       "    </tr>\n",
       "    <tr>\n",
       "      <th>буйнов</th>\n",
       "      <td>2.795455</td>\n",
       "      <td>44</td>\n",
       "      <td>0.727273</td>\n",
       "      <td>44</td>\n",
       "    </tr>\n",
       "    <tr>\n",
       "      <th>ваенга</th>\n",
       "      <td>133.773360</td>\n",
       "      <td>503</td>\n",
       "      <td>9.310139</td>\n",
       "      <td>503</td>\n",
       "    </tr>\n",
       "    <tr>\n",
       "      <th>...</th>\n",
       "      <th>...</th>\n",
       "      <td>...</td>\n",
       "      <td>...</td>\n",
       "      <td>...</td>\n",
       "      <td>...</td>\n",
       "    </tr>\n",
       "    <tr>\n",
       "      <th rowspan=\"5\" valign=\"top\">shanson</th>\n",
       "      <th>жека</th>\n",
       "      <td>505.681159</td>\n",
       "      <td>138</td>\n",
       "      <td>49.702899</td>\n",
       "      <td>138</td>\n",
       "    </tr>\n",
       "    <tr>\n",
       "      <th>ирина_круг</th>\n",
       "      <td>1520.352381</td>\n",
       "      <td>105</td>\n",
       "      <td>185.847619</td>\n",
       "      <td>105</td>\n",
       "    </tr>\n",
       "    <tr>\n",
       "      <th>михаил_круг</th>\n",
       "      <td>418.111340</td>\n",
       "      <td>485</td>\n",
       "      <td>44.216495</td>\n",
       "      <td>485</td>\n",
       "    </tr>\n",
       "    <tr>\n",
       "      <th>трофимов</th>\n",
       "      <td>252.857759</td>\n",
       "      <td>232</td>\n",
       "      <td>15.478448</td>\n",
       "      <td>232</td>\n",
       "    </tr>\n",
       "    <tr>\n",
       "      <th>шуфутинский</th>\n",
       "      <td>357.132565</td>\n",
       "      <td>347</td>\n",
       "      <td>17.040346</td>\n",
       "      <td>347</td>\n",
       "    </tr>\n",
       "  </tbody>\n",
       "</table>\n",
       "<p>111 rows × 4 columns</p>\n",
       "</div>"
      ],
      "text/plain": [
       "                                  likeCount       dislikeCount      \n",
       "                                       mean count         mean count\n",
       "music_style performer                                               \n",
       "classic     classical_channel  28663.333333   297  1236.228956   297\n",
       "estrada     агутин                39.333333     3     4.666667     3\n",
       "            басков              1582.721311   122   233.270492   122\n",
       "            буйнов                 2.795455    44     0.727273    44\n",
       "            ваенга               133.773360   503     9.310139   503\n",
       "...                                     ...   ...          ...   ...\n",
       "shanson     жека                 505.681159   138    49.702899   138\n",
       "            ирина_круг          1520.352381   105   185.847619   105\n",
       "            михаил_круг          418.111340   485    44.216495   485\n",
       "            трофимов             252.857759   232    15.478448   232\n",
       "            шуфутинский          357.132565   347    17.040346   347\n",
       "\n",
       "[111 rows x 4 columns]"
      ]
     },
     "execution_count": 52,
     "metadata": {},
     "output_type": "execute_result"
    }
   ],
   "source": [
    "df.groupby(['music_style', 'performer'])[['likeCount', 'dislikeCount']].agg(['mean', 'count'])"
   ]
  },
  {
   "cell_type": "markdown",
   "metadata": {},
   "source": [
    "В качестве аргумента в этой переменной нужно указать по каким переменным мы хотели бы осуществить группировку применяемой функции. В данной ситуации это жанр.\n",
    "\n",
    "Можно делать `groupby` по нескольким колонкам, получать результаты по нескольким колонкам и даже применять несколько функций за раз! "
   ]
  },
  {
   "cell_type": "code",
   "execution_count": 33,
   "metadata": {},
   "outputs": [
    {
     "data": {
      "text/plain": [
       "12314"
      ]
     },
     "execution_count": 33,
     "metadata": {},
     "output_type": "execute_result"
    }
   ],
   "source": [
    "(df['commentators_uniq'] > 0).sum()"
   ]
  },
  {
   "cell_type": "code",
   "execution_count": 62,
   "metadata": {},
   "outputs": [
    {
     "data": {
      "text/plain": [
       "1    12314\n",
       "0     6810\n",
       "Name: is_comment, dtype: int64"
      ]
     },
     "execution_count": 62,
     "metadata": {},
     "output_type": "execute_result"
    }
   ],
   "source": [
    "df['is_comment'] = 1*(df['commentators_uniq'] > 0)  # есть ли под видео комментарии, True=1, False=0\n",
    "df['is_comment'].value_counts()"
   ]
  },
  {
   "cell_type": "code",
   "execution_count": 64,
   "metadata": {},
   "outputs": [
    {
     "data": {
      "text/html": [
       "<div>\n",
       "<style scoped>\n",
       "    .dataframe tbody tr th:only-of-type {\n",
       "        vertical-align: middle;\n",
       "    }\n",
       "\n",
       "    .dataframe tbody tr th {\n",
       "        vertical-align: top;\n",
       "    }\n",
       "\n",
       "    .dataframe thead th {\n",
       "        text-align: right;\n",
       "    }\n",
       "</style>\n",
       "<table border=\"1\" class=\"dataframe\">\n",
       "  <thead>\n",
       "    <tr style=\"text-align: right;\">\n",
       "      <th></th>\n",
       "      <th>title</th>\n",
       "      <th>video_age</th>\n",
       "      <th>is_comment</th>\n",
       "    </tr>\n",
       "  </thead>\n",
       "  <tbody>\n",
       "    <tr>\n",
       "      <th>0</th>\n",
       "      <td>\"#2Маши \"Свободные линии\"</td>\n",
       "      <td>1141</td>\n",
       "      <td>1</td>\n",
       "    </tr>\n",
       "    <tr>\n",
       "      <th>1</th>\n",
       "      <td>\"ALARM\" СЕРГЕЙ ЛАЗАРЕВ ( SERGEY LAZAREV )</td>\n",
       "      <td>3217</td>\n",
       "      <td>0</td>\n",
       "    </tr>\n",
       "    <tr>\n",
       "      <th>2</th>\n",
       "      <td>\"EARTH SONG\"  SERGEY LAZAREV. DEDICATED TO MIC...</td>\n",
       "      <td>3546</td>\n",
       "      <td>1</td>\n",
       "    </tr>\n",
       "    <tr>\n",
       "      <th>3</th>\n",
       "      <td>\"Earth song\" премия МУЗ-тВ 2010 (LIVE)</td>\n",
       "      <td>3189</td>\n",
       "      <td>1</td>\n",
       "    </tr>\n",
       "    <tr>\n",
       "      <th>4</th>\n",
       "      <td>\"FAKE\" СЕРГЕЙ ЛАЗАРЕВ (SERGEY)</td>\n",
       "      <td>3361</td>\n",
       "      <td>1</td>\n",
       "    </tr>\n",
       "  </tbody>\n",
       "</table>\n",
       "</div>"
      ],
      "text/plain": [
       "                                               title  video_age  is_comment\n",
       "0                          \"#2Маши \"Свободные линии\"       1141           1\n",
       "1          \"ALARM\" СЕРГЕЙ ЛАЗАРЕВ ( SERGEY LAZAREV )       3217           0\n",
       "2  \"EARTH SONG\"  SERGEY LAZAREV. DEDICATED TO MIC...       3546           1\n",
       "3             \"Earth song\" премия МУЗ-тВ 2010 (LIVE)       3189           1\n",
       "4                     \"FAKE\" СЕРГЕЙ ЛАЗАРЕВ (SERGEY)       3361           1"
      ]
     },
     "execution_count": 64,
     "metadata": {},
     "output_type": "execute_result"
    }
   ],
   "source": [
    "# убедимся, что новый столбец is_comment добавлен в исходную таблицу\n",
    "df[['title', 'video_age', 'is_comment']][:5] "
   ]
  },
  {
   "cell_type": "code",
   "execution_count": 35,
   "metadata": {},
   "outputs": [
    {
     "data": {
      "text/html": [
       "<div>\n",
       "<style scoped>\n",
       "    .dataframe tbody tr th:only-of-type {\n",
       "        vertical-align: middle;\n",
       "    }\n",
       "\n",
       "    .dataframe tbody tr th {\n",
       "        vertical-align: top;\n",
       "    }\n",
       "\n",
       "    .dataframe thead tr th {\n",
       "        text-align: left;\n",
       "    }\n",
       "\n",
       "    .dataframe thead tr:last-of-type th {\n",
       "        text-align: right;\n",
       "    }\n",
       "</style>\n",
       "<table border=\"1\" class=\"dataframe\">\n",
       "  <thead>\n",
       "    <tr>\n",
       "      <th></th>\n",
       "      <th></th>\n",
       "      <th colspan=\"4\" halign=\"left\">dislikeCount</th>\n",
       "      <th colspan=\"4\" halign=\"left\">likeCount</th>\n",
       "    </tr>\n",
       "    <tr>\n",
       "      <th></th>\n",
       "      <th></th>\n",
       "      <th>count</th>\n",
       "      <th>min</th>\n",
       "      <th>max</th>\n",
       "      <th>mean</th>\n",
       "      <th>count</th>\n",
       "      <th>min</th>\n",
       "      <th>max</th>\n",
       "      <th>mean</th>\n",
       "    </tr>\n",
       "    <tr>\n",
       "      <th>music_style</th>\n",
       "      <th>is_comment</th>\n",
       "      <th></th>\n",
       "      <th></th>\n",
       "      <th></th>\n",
       "      <th></th>\n",
       "      <th></th>\n",
       "      <th></th>\n",
       "      <th></th>\n",
       "      <th></th>\n",
       "    </tr>\n",
       "  </thead>\n",
       "  <tbody>\n",
       "    <tr>\n",
       "      <th rowspan=\"2\" valign=\"top\">classic</th>\n",
       "      <th>0</th>\n",
       "      <td>32</td>\n",
       "      <td>0.0</td>\n",
       "      <td>6127.0</td>\n",
       "      <td>206.125000</td>\n",
       "      <td>32</td>\n",
       "      <td>1.0</td>\n",
       "      <td>250835.0</td>\n",
       "      <td>8253.218750</td>\n",
       "    </tr>\n",
       "    <tr>\n",
       "      <th>1</th>\n",
       "      <td>265</td>\n",
       "      <td>0.0</td>\n",
       "      <td>52892.0</td>\n",
       "      <td>1360.618868</td>\n",
       "      <td>265</td>\n",
       "      <td>9.0</td>\n",
       "      <td>849676.0</td>\n",
       "      <td>31127.950943</td>\n",
       "    </tr>\n",
       "    <tr>\n",
       "      <th rowspan=\"2\" valign=\"top\">estrada</th>\n",
       "      <th>0</th>\n",
       "      <td>1589</td>\n",
       "      <td>0.0</td>\n",
       "      <td>2584.0</td>\n",
       "      <td>9.333543</td>\n",
       "      <td>1589</td>\n",
       "      <td>0.0</td>\n",
       "      <td>17511.0</td>\n",
       "      <td>98.007552</td>\n",
       "    </tr>\n",
       "    <tr>\n",
       "      <th>1</th>\n",
       "      <td>2362</td>\n",
       "      <td>0.0</td>\n",
       "      <td>348770.0</td>\n",
       "      <td>284.050804</td>\n",
       "      <td>2362</td>\n",
       "      <td>0.0</td>\n",
       "      <td>377957.0</td>\n",
       "      <td>1504.240898</td>\n",
       "    </tr>\n",
       "    <tr>\n",
       "      <th rowspan=\"2\" valign=\"top\">indi</th>\n",
       "      <th>0</th>\n",
       "      <td>719</td>\n",
       "      <td>0.0</td>\n",
       "      <td>14244.0</td>\n",
       "      <td>69.887344</td>\n",
       "      <td>719</td>\n",
       "      <td>0.0</td>\n",
       "      <td>389416.0</td>\n",
       "      <td>1231.396384</td>\n",
       "    </tr>\n",
       "    <tr>\n",
       "      <th>1</th>\n",
       "      <td>638</td>\n",
       "      <td>0.0</td>\n",
       "      <td>32478.0</td>\n",
       "      <td>390.062696</td>\n",
       "      <td>638</td>\n",
       "      <td>0.0</td>\n",
       "      <td>218384.0</td>\n",
       "      <td>3869.774295</td>\n",
       "    </tr>\n",
       "    <tr>\n",
       "      <th rowspan=\"2\" valign=\"top\">popsa</th>\n",
       "      <th>0</th>\n",
       "      <td>754</td>\n",
       "      <td>0.0</td>\n",
       "      <td>82016.0</td>\n",
       "      <td>218.583554</td>\n",
       "      <td>754</td>\n",
       "      <td>0.0</td>\n",
       "      <td>222212.0</td>\n",
       "      <td>1544.502653</td>\n",
       "    </tr>\n",
       "    <tr>\n",
       "      <th>1</th>\n",
       "      <td>2577</td>\n",
       "      <td>0.0</td>\n",
       "      <td>177367.0</td>\n",
       "      <td>957.398525</td>\n",
       "      <td>2577</td>\n",
       "      <td>0.0</td>\n",
       "      <td>698902.0</td>\n",
       "      <td>9232.521925</td>\n",
       "    </tr>\n",
       "    <tr>\n",
       "      <th rowspan=\"2\" valign=\"top\">rap</th>\n",
       "      <th>0</th>\n",
       "      <td>238</td>\n",
       "      <td>0.0</td>\n",
       "      <td>194450.0</td>\n",
       "      <td>3435.579832</td>\n",
       "      <td>238</td>\n",
       "      <td>6.0</td>\n",
       "      <td>1297718.0</td>\n",
       "      <td>22701.928571</td>\n",
       "    </tr>\n",
       "    <tr>\n",
       "      <th>1</th>\n",
       "      <td>1785</td>\n",
       "      <td>0.0</td>\n",
       "      <td>640698.0</td>\n",
       "      <td>4188.108123</td>\n",
       "      <td>1785</td>\n",
       "      <td>11.0</td>\n",
       "      <td>1686810.0</td>\n",
       "      <td>27349.193277</td>\n",
       "    </tr>\n",
       "    <tr>\n",
       "      <th rowspan=\"2\" valign=\"top\">rock</th>\n",
       "      <th>0</th>\n",
       "      <td>2196</td>\n",
       "      <td>0.0</td>\n",
       "      <td>2514.0</td>\n",
       "      <td>16.923953</td>\n",
       "      <td>2196</td>\n",
       "      <td>0.0</td>\n",
       "      <td>40720.0</td>\n",
       "      <td>186.520492</td>\n",
       "    </tr>\n",
       "    <tr>\n",
       "      <th>1</th>\n",
       "      <td>3639</td>\n",
       "      <td>0.0</td>\n",
       "      <td>133644.0</td>\n",
       "      <td>451.100302</td>\n",
       "      <td>3639</td>\n",
       "      <td>0.0</td>\n",
       "      <td>827118.0</td>\n",
       "      <td>3307.446276</td>\n",
       "    </tr>\n",
       "    <tr>\n",
       "      <th rowspan=\"2\" valign=\"top\">shanson</th>\n",
       "      <th>0</th>\n",
       "      <td>1200</td>\n",
       "      <td>0.0</td>\n",
       "      <td>1712.0</td>\n",
       "      <td>4.716667</td>\n",
       "      <td>1200</td>\n",
       "      <td>0.0</td>\n",
       "      <td>29401.0</td>\n",
       "      <td>78.508333</td>\n",
       "    </tr>\n",
       "    <tr>\n",
       "      <th>1</th>\n",
       "      <td>856</td>\n",
       "      <td>0.0</td>\n",
       "      <td>12906.0</td>\n",
       "      <td>102.644860</td>\n",
       "      <td>856</td>\n",
       "      <td>0.0</td>\n",
       "      <td>85023.0</td>\n",
       "      <td>947.702103</td>\n",
       "    </tr>\n",
       "  </tbody>\n",
       "</table>\n",
       "</div>"
      ],
      "text/plain": [
       "                       dislikeCount                             likeCount  \\\n",
       "                              count  min       max         mean     count   \n",
       "music_style is_comment                                                      \n",
       "classic     0                    32  0.0    6127.0   206.125000        32   \n",
       "            1                   265  0.0   52892.0  1360.618868       265   \n",
       "estrada     0                  1589  0.0    2584.0     9.333543      1589   \n",
       "            1                  2362  0.0  348770.0   284.050804      2362   \n",
       "indi        0                   719  0.0   14244.0    69.887344       719   \n",
       "            1                   638  0.0   32478.0   390.062696       638   \n",
       "popsa       0                   754  0.0   82016.0   218.583554       754   \n",
       "            1                  2577  0.0  177367.0   957.398525      2577   \n",
       "rap         0                   238  0.0  194450.0  3435.579832       238   \n",
       "            1                  1785  0.0  640698.0  4188.108123      1785   \n",
       "rock        0                  2196  0.0    2514.0    16.923953      2196   \n",
       "            1                  3639  0.0  133644.0   451.100302      3639   \n",
       "shanson     0                  1200  0.0    1712.0     4.716667      1200   \n",
       "            1                   856  0.0   12906.0   102.644860       856   \n",
       "\n",
       "                                                       \n",
       "                         min        max          mean  \n",
       "music_style is_comment                                 \n",
       "classic     0            1.0   250835.0   8253.218750  \n",
       "            1            9.0   849676.0  31127.950943  \n",
       "estrada     0            0.0    17511.0     98.007552  \n",
       "            1            0.0   377957.0   1504.240898  \n",
       "indi        0            0.0   389416.0   1231.396384  \n",
       "            1            0.0   218384.0   3869.774295  \n",
       "popsa       0            0.0   222212.0   1544.502653  \n",
       "            1            0.0   698902.0   9232.521925  \n",
       "rap         0            6.0  1297718.0  22701.928571  \n",
       "            1           11.0  1686810.0  27349.193277  \n",
       "rock        0            0.0    40720.0    186.520492  \n",
       "            1            0.0   827118.0   3307.446276  \n",
       "shanson     0            0.0    29401.0     78.508333  \n",
       "            1            0.0    85023.0    947.702103  "
      ]
     },
     "execution_count": 35,
     "metadata": {},
     "output_type": "execute_result"
    }
   ],
   "source": [
    "df.groupby(['music_style', 'is_comment'])[['dislikeCount', 'likeCount']].agg(['count','min','max','mean'])"
   ]
  },
  {
   "cell_type": "markdown",
   "metadata": {},
   "source": [
    "# 4. Apply \n",
    "\n",
    "Можно применить к каждому объекту ячейки одну и ту же функцию. Это можно сделать методом `apply`. Посчитаем число букв в названии каждого клипа из таблицы: "
   ]
  },
  {
   "cell_type": "code",
   "execution_count": 36,
   "metadata": {},
   "outputs": [
    {
     "data": {
      "text/plain": [
       "(7, 14)"
      ]
     },
     "execution_count": 36,
     "metadata": {},
     "output_type": "execute_result"
    }
   ],
   "source": [
    "name = 'NATASHA'\n",
    "name_1 = 'IRINA PALADINA'\n",
    "len(name), len(name_1) # пробел учитывается функцией len()"
   ]
  },
  {
   "cell_type": "code",
   "execution_count": 7,
   "metadata": {
    "scrolled": true
   },
   "outputs": [
    {
     "data": {
      "text/plain": [
       "0                                \"#2Маши \"Свободные линии\"\n",
       "1                \"ALARM\" СЕРГЕЙ ЛАЗАРЕВ ( SERGEY LAZAREV )\n",
       "2        \"EARTH SONG\"  SERGEY LAZAREV. DEDICATED TO MIC...\n",
       "3                   \"Earth song\" премия МУЗ-тВ 2010 (LIVE)\n",
       "4                           \"FAKE\" СЕРГЕЙ ЛАЗАРЕВ (SERGEY)\n",
       "                               ...                        \n",
       "19119                  ♫♪Мы расстаемся ♫♪  Бутырка new2019\n",
       "19120    ❤ 2 ЧАСА ❤ МОЦАРТ Для Младенцев - Колыбельная ...\n",
       "19121                                      モスクワライブショー ' 17\n",
       "19122    舞梅鬼   -  新年好宝贝 / Mumiy Troll - Happy New Year ...\n",
       "19123    🎄#премьера песни!!! 2019г(вы не спешите говори...\n",
       "Name: title, Length: 19124, dtype: object"
      ]
     },
     "execution_count": 7,
     "metadata": {},
     "output_type": "execute_result"
    }
   ],
   "source": [
    "df.title"
   ]
  },
  {
   "cell_type": "code",
   "execution_count": 38,
   "metadata": {},
   "outputs": [
    {
     "data": {
      "text/plain": [
       "0    25\n",
       "1    41\n",
       "2    75\n",
       "3    38\n",
       "4    30\n",
       "5    48\n",
       "6    36\n",
       "7    43\n",
       "8    29\n",
       "9    56\n",
       "Name: title, dtype: int64"
      ]
     },
     "execution_count": 38,
     "metadata": {},
     "output_type": "execute_result"
    }
   ],
   "source": [
    "df.title.apply(len)[:10]"
   ]
  },
  {
   "cell_type": "code",
   "execution_count": 39,
   "metadata": {},
   "outputs": [
    {
     "data": {
      "text/plain": [
       "35.293871574984315"
      ]
     },
     "execution_count": 39,
     "metadata": {},
     "output_type": "execute_result"
    }
   ],
   "source": [
    "df.title.apply(len).mean() # средняя длина названия"
   ]
  },
  {
   "cell_type": "markdown",
   "metadata": {},
   "source": [
    "Можно написать свою функцию и применить её к колонке. Например, вот так можно достать первую букву каждого имени: "
   ]
  },
  {
   "cell_type": "code",
   "execution_count": 10,
   "metadata": {},
   "outputs": [
    {
     "data": {
      "text/plain": [
       "'Н'"
      ]
     },
     "execution_count": 10,
     "metadata": {},
     "output_type": "execute_result"
    }
   ],
   "source": [
    "def my_function(name):\n",
    "    return name[0]\n",
    "\n",
    "example = \"Настя\"\n",
    "\n",
    "my_function(example)"
   ]
  },
  {
   "cell_type": "code",
   "execution_count": 11,
   "metadata": {
    "scrolled": false
   },
   "outputs": [
    {
     "data": {
      "text/plain": [
       "19114    ♫\n",
       "19115    ♫\n",
       "19116    ♫\n",
       "19117    ♫\n",
       "19118    ♫\n",
       "19119    ♫\n",
       "19120    ❤\n",
       "19121    モ\n",
       "19122    舞\n",
       "19123    🎄\n",
       "Name: title, dtype: object"
      ]
     },
     "execution_count": 11,
     "metadata": {},
     "output_type": "execute_result"
    }
   ],
   "source": [
    "df.title.apply(my_function)[-10:] # [-10:] возвращает последние 10 строк"
   ]
  },
  {
   "cell_type": "markdown",
   "metadata": {},
   "source": [
    "Ровно то же самое можно сделать в одну строчку с помощью лямбда-функций. Это как обычная функция, но её нигде не надо объявлять. "
   ]
  },
  {
   "cell_type": "code",
   "execution_count": 8,
   "metadata": {
    "scrolled": true
   },
   "outputs": [
    {
     "data": {
      "text/plain": [
       "19114    ♫\n",
       "19115    ♫\n",
       "19116    ♫\n",
       "19117    ♫\n",
       "19118    ♫\n",
       "19119    ♫\n",
       "19120    ❤\n",
       "19121    モ\n",
       "19122    舞\n",
       "19123    🎄\n",
       "Name: title, dtype: object"
      ]
     },
     "execution_count": 8,
     "metadata": {},
     "output_type": "execute_result"
    }
   ],
   "source": [
    "df.title.apply(lambda name: name[0])[-10:]"
   ]
  },
  {
   "cell_type": "markdown",
   "metadata": {},
   "source": [
    "Преобразования можно делать сколь угодно сложными."
   ]
  },
  {
   "cell_type": "markdown",
   "metadata": {},
   "source": [
    "# 5. Гистограммы"
   ]
  },
  {
   "cell_type": "code",
   "execution_count": 43,
   "metadata": {},
   "outputs": [
    {
     "data": {
      "image/png": "[encoded data removed]",
      "text/plain": [
       "<Figure size 1008x504 with 1 Axes>"
      ]
     },
     "metadata": {
      "needs_background": "light"
     },
     "output_type": "display_data"
    }
   ],
   "source": [
    "plt.figure(figsize=(14,7))\n",
    "plt.hist(df['video_age'], bins=100);"
   ]
  },
  {
   "cell_type": "markdown",
   "metadata": {},
   "source": [
    "Можно сгладить распределение."
   ]
  },
  {
   "cell_type": "code",
   "execution_count": 44,
   "metadata": {},
   "outputs": [
    {
     "data": {
      "image/png": "[encoded data removed]",
      "text/plain": [
       "<Figure size 1008x504 with 1 Axes>"
      ]
     },
     "metadata": {
      "needs_background": "light"
     },
     "output_type": "display_data"
    }
   ],
   "source": [
    "plt.figure(figsize=(14,7))\n",
    "\n",
    "df['video_age'].hist(bins=100, density=True)\n",
    "df['video_age'].plot(kind='kde', linewidth=4) # kde  - ядерная оценка плотности\n",
    "plt.xlim(0, 4000) # область определения для Ох\n",
    "plt.title(\"Распределение возраста  видео\");"
   ]
  },
  {
   "cell_type": "markdown",
   "metadata": {},
   "source": [
    "Можно построить сразу много гистограмм. "
   ]
  },
  {
   "cell_type": "code",
   "execution_count": 45,
   "metadata": {
    "scrolled": true
   },
   "outputs": [
    {
     "data": {
      "image/png": "[encoded data removed]",
      "text/plain": [
       "<Figure size 1440x576 with 4 Axes>"
      ]
     },
     "metadata": {
      "needs_background": "light"
     },
     "output_type": "display_data"
    }
   ],
   "source": [
    "columns = ['viewCount', 'likeCount', 'dislikeCount']\n",
    "\n",
    "df[columns].hist(figsize=(20, 8),log=True); # берем логарифм по шкале Оу"
   ]
  },
  {
   "cell_type": "markdown",
   "metadata": {},
   "source": [
    "Можно построить гистограммы для логарифмов показателей. Обычно логарифмирование используют для того, чтобы сгладить выборосы и сделать данные более гладкими. Более того, на основе логарифма можно придумать преобразование, которое нормализует данные."
   ]
  },
  {
   "cell_type": "markdown",
   "metadata": {},
   "source": [
    "log(x + 1) - так как логарифм от 0 равен минус бесконечности"
   ]
  },
  {
   "cell_type": "code",
   "execution_count": 46,
   "metadata": {},
   "outputs": [
    {
     "data": {
      "text/html": [
       "<div>\n",
       "<style scoped>\n",
       "    .dataframe tbody tr th:only-of-type {\n",
       "        vertical-align: middle;\n",
       "    }\n",
       "\n",
       "    .dataframe tbody tr th {\n",
       "        vertical-align: top;\n",
       "    }\n",
       "\n",
       "    .dataframe thead th {\n",
       "        text-align: right;\n",
       "    }\n",
       "</style>\n",
       "<table border=\"1\" class=\"dataframe\">\n",
       "  <thead>\n",
       "    <tr style=\"text-align: right;\">\n",
       "      <th></th>\n",
       "      <th>viewCount</th>\n",
       "      <th>likeCount</th>\n",
       "      <th>dislikeCount</th>\n",
       "    </tr>\n",
       "  </thead>\n",
       "  <tbody>\n",
       "    <tr>\n",
       "      <th>0</th>\n",
       "      <td>12.275142</td>\n",
       "      <td>7.246368</td>\n",
       "      <td>3.784190</td>\n",
       "    </tr>\n",
       "    <tr>\n",
       "      <th>1</th>\n",
       "      <td>14.613657</td>\n",
       "      <td>9.262268</td>\n",
       "      <td>6.538140</td>\n",
       "    </tr>\n",
       "    <tr>\n",
       "      <th>2</th>\n",
       "      <td>10.604801</td>\n",
       "      <td>5.598422</td>\n",
       "      <td>2.397895</td>\n",
       "    </tr>\n",
       "    <tr>\n",
       "      <th>3</th>\n",
       "      <td>9.384966</td>\n",
       "      <td>5.099866</td>\n",
       "      <td>2.079442</td>\n",
       "    </tr>\n",
       "    <tr>\n",
       "      <th>4</th>\n",
       "      <td>11.423919</td>\n",
       "      <td>6.393591</td>\n",
       "      <td>2.995732</td>\n",
       "    </tr>\n",
       "    <tr>\n",
       "      <th>...</th>\n",
       "      <td>...</td>\n",
       "      <td>...</td>\n",
       "      <td>...</td>\n",
       "    </tr>\n",
       "    <tr>\n",
       "      <th>19119</th>\n",
       "      <td>7.010312</td>\n",
       "      <td>2.484907</td>\n",
       "      <td>0.000000</td>\n",
       "    </tr>\n",
       "    <tr>\n",
       "      <th>19120</th>\n",
       "      <td>12.878601</td>\n",
       "      <td>7.516433</td>\n",
       "      <td>6.068426</td>\n",
       "    </tr>\n",
       "    <tr>\n",
       "      <th>19121</th>\n",
       "      <td>13.987227</td>\n",
       "      <td>10.328886</td>\n",
       "      <td>9.648273</td>\n",
       "    </tr>\n",
       "    <tr>\n",
       "      <th>19122</th>\n",
       "      <td>9.225032</td>\n",
       "      <td>5.564520</td>\n",
       "      <td>2.397895</td>\n",
       "    </tr>\n",
       "    <tr>\n",
       "      <th>19123</th>\n",
       "      <td>7.356918</td>\n",
       "      <td>3.135494</td>\n",
       "      <td>0.000000</td>\n",
       "    </tr>\n",
       "  </tbody>\n",
       "</table>\n",
       "<p>19124 rows × 3 columns</p>\n",
       "</div>"
      ],
      "text/plain": [
       "       viewCount  likeCount  dislikeCount\n",
       "0      12.275142   7.246368      3.784190\n",
       "1      14.613657   9.262268      6.538140\n",
       "2      10.604801   5.598422      2.397895\n",
       "3       9.384966   5.099866      2.079442\n",
       "4      11.423919   6.393591      2.995732\n",
       "...          ...        ...           ...\n",
       "19119   7.010312   2.484907      0.000000\n",
       "19120  12.878601   7.516433      6.068426\n",
       "19121  13.987227  10.328886      9.648273\n",
       "19122   9.225032   5.564520      2.397895\n",
       "19123   7.356918   3.135494      0.000000\n",
       "\n",
       "[19124 rows x 3 columns]"
      ]
     },
     "execution_count": 46,
     "metadata": {},
     "output_type": "execute_result"
    }
   ],
   "source": [
    "df[columns].apply(lambda x: np.log(x + 1))"
   ]
  },
  {
   "cell_type": "code",
   "execution_count": 47,
   "metadata": {},
   "outputs": [
    {
     "data": {
      "image/png": "[encoded data removed]",
      "text/plain": [
       "<Figure size 1440x432 with 4 Axes>"
      ]
     },
     "metadata": {
      "needs_background": "light"
     },
     "output_type": "display_data"
    }
   ],
   "source": [
    "# логарифмируем Ох\n",
    "df[columns].apply(lambda x: np.log(x + 1)).hist(figsize=(20, 6), bins=25); "
   ]
  },
  {
   "cell_type": "markdown",
   "metadata": {},
   "source": [
    "# 6. Усытые ящики"
   ]
  },
  {
   "cell_type": "code",
   "execution_count": 48,
   "metadata": {},
   "outputs": [
    {
     "data": {
      "text/html": [
       "<div>\n",
       "<style scoped>\n",
       "    .dataframe tbody tr th:only-of-type {\n",
       "        vertical-align: middle;\n",
       "    }\n",
       "\n",
       "    .dataframe tbody tr th {\n",
       "        vertical-align: top;\n",
       "    }\n",
       "\n",
       "    .dataframe thead th {\n",
       "        text-align: right;\n",
       "    }\n",
       "</style>\n",
       "<table border=\"1\" class=\"dataframe\">\n",
       "  <thead>\n",
       "    <tr style=\"text-align: right;\">\n",
       "      <th></th>\n",
       "      <th>viewCount</th>\n",
       "      <th>likeCount</th>\n",
       "      <th>dislikeCount</th>\n",
       "      <th>music_style</th>\n",
       "    </tr>\n",
       "  </thead>\n",
       "  <tbody>\n",
       "    <tr>\n",
       "      <th>0</th>\n",
       "      <td>12.275142</td>\n",
       "      <td>7.246368</td>\n",
       "      <td>3.784190</td>\n",
       "      <td>popsa</td>\n",
       "    </tr>\n",
       "    <tr>\n",
       "      <th>1</th>\n",
       "      <td>14.613657</td>\n",
       "      <td>9.262268</td>\n",
       "      <td>6.538140</td>\n",
       "      <td>popsa</td>\n",
       "    </tr>\n",
       "    <tr>\n",
       "      <th>2</th>\n",
       "      <td>10.604801</td>\n",
       "      <td>5.598422</td>\n",
       "      <td>2.397895</td>\n",
       "      <td>popsa</td>\n",
       "    </tr>\n",
       "    <tr>\n",
       "      <th>3</th>\n",
       "      <td>9.384966</td>\n",
       "      <td>5.099866</td>\n",
       "      <td>2.079442</td>\n",
       "      <td>popsa</td>\n",
       "    </tr>\n",
       "    <tr>\n",
       "      <th>4</th>\n",
       "      <td>11.423919</td>\n",
       "      <td>6.393591</td>\n",
       "      <td>2.995732</td>\n",
       "      <td>popsa</td>\n",
       "    </tr>\n",
       "  </tbody>\n",
       "</table>\n",
       "</div>"
      ],
      "text/plain": [
       "   viewCount  likeCount  dislikeCount music_style\n",
       "0  12.275142   7.246368      3.784190       popsa\n",
       "1  14.613657   9.262268      6.538140       popsa\n",
       "2  10.604801   5.598422      2.397895       popsa\n",
       "3   9.384966   5.099866      2.079442       popsa\n",
       "4  11.423919   6.393591      2.995732       popsa"
      ]
     },
     "execution_count": 48,
     "metadata": {},
     "output_type": "execute_result"
    }
   ],
   "source": [
    "df_log = df[columns].apply(lambda x: np.log(x + 1)) # снова прологарифмируем\n",
    "df_log['music_style'] = df['music_style']\n",
    "df_log.head()"
   ]
  },
  {
   "cell_type": "code",
   "execution_count": 49,
   "metadata": {},
   "outputs": [
    {
     "data": {
      "image/png": "[encoded data removed]",
      "text/plain": [
       "<Figure size 1008x504 with 1 Axes>"
      ]
     },
     "metadata": {
      "needs_background": "light"
     },
     "output_type": "display_data"
    }
   ],
   "source": [
    "plt.figure(figsize=(14,7))\n",
    "\n",
    "sns.boxplot(x='music_style', y='likeCount', data=df_log) # boxplot - ящик с усами\n",
    "\n",
    "plt.xlabel('музыкальный стиль')\n",
    "plt.ylabel('логарифм числа лайков');"
   ]
  },
  {
   "cell_type": "markdown",
   "metadata": {},
   "source": [
    "Можно построить похожую картинку под названием виалончель. Она отражает то же самое, что и ящики с усами, но выглядит более красиво. "
   ]
  },
  {
   "cell_type": "code",
   "execution_count": 50,
   "metadata": {},
   "outputs": [
    {
     "data": {
      "image/png": "[encoded data removed]",
      "text/plain": [
       "<Figure size 1008x504 with 1 Axes>"
      ]
     },
     "metadata": {
      "needs_background": "light"
     },
     "output_type": "display_data"
    }
   ],
   "source": [
    "plt.figure(figsize=(14,7))\n",
    "\n",
    "sns.violinplot(x='music_style', y='likeCount', \n",
    "               data=df_log, inner='quartile')\n",
    "\n",
    "# inner : {\"box\", \"quartile\", \"point\", \"stick\", None}, optional\n",
    "#     Representation of the datapoints in the violin interior. If ``box``,\n",
    "#     draw a miniature boxplot. If ``quartiles``, draw the quartiles of the\n",
    "#     distribution.  If ``point`` or ``stick``, show each underlying\n",
    "#     datapoint. Using ``None`` will draw unadorned violins.\n",
    "\n",
    "plt.xlabel('музыкальный стиль')\n",
    "plt.ylabel('логарифм числа лайков');"
   ]
  },
  {
   "cell_type": "markdown",
   "metadata": {},
   "source": [
    " "
   ]
  }
 ],
 "metadata": {
  "kernelspec": {
   "display_name": "Python 3",
   "language": "python",
   "name": "python3"
  },
  "language_info": {
   "codemirror_mode": {
    "name": "ipython",
    "version": 3
   },
   "file_extension": ".py",
   "mimetype": "text/x-python",
   "name": "python",
   "nbconvert_exporter": "python",
   "pygments_lexer": "ipython3",
   "version": "3.8.10"
  }
 },
 "nbformat": 4,
 "nbformat_minor": 2
}
