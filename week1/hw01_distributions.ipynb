{
 "cells": [
  {
   "cell_type": "markdown",
   "metadata": {},
   "source": [
    "<center>\n",
    "<img src=\"logo.png\" height=\"900\"> \n",
    "</center>\n",
    "\n",
    "\n",
    "#  Распределения\n",
    "\n",
    "В этом задании мы немного поработаем в python с разными случайными величинами. Делать это задание необязательно, но рекомендуется. "
   ]
  },
  {
   "cell_type": "code",
   "execution_count": 1,
   "metadata": {},
   "outputs": [],
   "source": [
    "import numpy as np\n",
    "import pandas as pd\n",
    "\n",
    "import scipy.stats as sts\n",
    "import matplotlib.pyplot as plt\n",
    "import seaborn as sns\n",
    "\n",
    "plt.style.use('ggplot')  # стиль для графиков\n",
    "%matplotlib inline"
   ]
  },
  {
   "cell_type": "markdown",
   "metadata": {},
   "source": [
    "## Упражнение 1 \n",
    "\n",
    "> Нормальность восстановлена, мы на орбите Магратеи (Автостопом по галактике) \n",
    "\n",
    "__а)__ Задайте генератор для случайной величины имеющей нормальное распределение: $X \\sim N(4, 10^2)$. "
   ]
  },
  {
   "cell_type": "code",
   "execution_count": 2,
   "metadata": {
    "deletable": false,
    "nbgrader": {
     "cell_type": "code",
     "checksum": "9d21fc155e5104809101998779ed4c50",
     "grade": false,
     "grade_id": "cell-21e561bdc8c563e2",
     "locked": false,
     "schema_version": 3,
     "solution": true,
     "task": false
    }
   },
   "outputs": [],
   "source": [
    "norm_rv = sts.norm(loc=4, scale=10)"
   ]
  },
  {
   "cell_type": "markdown",
   "metadata": {},
   "source": [
    "__б)__ Найдите вероятности $P(X > 4)$, $P(X \\in [2; 20])$, $P(X < −5)$. Запишите их в переменные `p1, p2, p3`. "
   ]
  },
  {
   "cell_type": "code",
   "execution_count": 3,
   "metadata": {
    "deletable": false,
    "nbgrader": {
     "cell_type": "code",
     "checksum": "1d9d245ccc8161b85d625eeb02d9e28a",
     "grade": false,
     "grade_id": "cell-14d3057847804744",
     "locked": false,
     "schema_version": 3,
     "solution": true,
     "task": false
    }
   },
   "outputs": [
    {
     "name": "stdout",
     "output_type": "stream",
     "text": [
      "0.5\n",
      "0.5244604177395451\n",
      "0.18406012534675947\n"
     ]
    }
   ],
   "source": [
    "# p1 -> 𝑃(𝑋>4) \n",
    "# p2 -> 𝑃(𝑋∈[2;20])\n",
    "# p3 -> 𝑃(𝑋<−5)\n",
    "\n",
    "p1 = norm_rv.cdf(4) \n",
    "p2 = norm_rv.cdf(20) - norm_rv.cdf(2)\n",
    "p3 = norm_rv.cdf(-5) \n",
    "\n",
    "print(p1, p2, p3, sep='\\n')"
   ]
  },
  {
   "cell_type": "code",
   "execution_count": 4,
   "metadata": {
    "deletable": false,
    "editable": false,
    "nbgrader": {
     "cell_type": "code",
     "checksum": "cfbcf073d26089ca493abfb0646582a4",
     "grade": true,
     "grade_id": "cell-ebe87628dc40aa0d",
     "locked": true,
     "points": 1,
     "schema_version": 3,
     "solution": false,
     "task": false
    }
   },
   "outputs": [],
   "source": [
    "# Проверка корректно ли вы нашли вероятности :) \n",
    "# Задание необязательное, поэтому все тесты открытые\n",
    "\n",
    "assert p1 == 0.5\n",
    "assert np.abs(p2 - 0.5244604) < 1e-5\n",
    "assert np.abs(p3 - 0.18406012) < 1e-5"
   ]
  },
  {
   "cell_type": "markdown",
   "metadata": {},
   "source": [
    "__в)__ Найдите число $a$ такое, что $P(X > a) = 0.3$."
   ]
  },
  {
   "cell_type": "code",
   "execution_count": 5,
   "metadata": {
    "deletable": false,
    "nbgrader": {
     "cell_type": "code",
     "checksum": "ecd70575a2c8876f078d0f317af9177a",
     "grade": false,
     "grade_id": "cell-42289d9eda89b327",
     "locked": false,
     "schema_version": 3,
     "solution": true,
     "task": false
    }
   },
   "outputs": [
    {
     "data": {
      "text/plain": [
       "9.244005127080406"
      ]
     },
     "execution_count": 5,
     "metadata": {},
     "output_type": "execute_result"
    }
   ],
   "source": [
    "a = norm_rv.ppf(1-0.3)\n",
    "a"
   ]
  },
  {
   "cell_type": "code",
   "execution_count": 6,
   "metadata": {
    "deletable": false,
    "editable": false,
    "nbgrader": {
     "cell_type": "code",
     "checksum": "0ae7d8f0d57ec29872d85b8df59a4a11",
     "grade": true,
     "grade_id": "cell-72a1fc8db7e3a18e",
     "locked": true,
     "points": 1,
     "schema_version": 3,
     "solution": false,
     "task": false
    }
   },
   "outputs": [],
   "source": [
    "assert np.abs(a - 9.2440051) < 1e-5"
   ]
  },
  {
   "cell_type": "markdown",
   "metadata": {},
   "source": [
    "__г)__ Найдите число $b$ такое, что $P(X \\in [4 - b; 4 + b]) = 0.5$."
   ]
  },
  {
   "cell_type": "code",
   "execution_count": 7,
   "metadata": {
    "deletable": false,
    "nbgrader": {
     "cell_type": "code",
     "checksum": "15535a3f61ddd51f1b199d6fcf98078a",
     "grade": false,
     "grade_id": "cell-ebe9ef1162005659",
     "locked": false,
     "schema_version": 3,
     "solution": true,
     "task": false
    },
    "scrolled": true
   },
   "outputs": [
    {
     "data": {
      "text/plain": [
       "6.744897501960818"
      ]
     },
     "execution_count": 7,
     "metadata": {},
     "output_type": "execute_result"
    }
   ],
   "source": [
    "# 0.5 = norm_rv.cdf(4+b) - norm_rv.cdf(4-b)\n",
    "# еще бы понять логику данного номера...\n",
    "\n",
    "b = norm_rv.ppf(0.5) + norm_rv.ppf(0.75) - 8\n",
    "b"
   ]
  },
  {
   "cell_type": "code",
   "execution_count": 8,
   "metadata": {
    "deletable": false,
    "editable": false,
    "nbgrader": {
     "cell_type": "code",
     "checksum": "5a2825d68bc510f535b79f087b3bd67d",
     "grade": true,
     "grade_id": "cell-a918707ad64c1dd2",
     "locked": true,
     "points": 1,
     "schema_version": 3,
     "solution": false,
     "task": false
    }
   },
   "outputs": [],
   "source": [
    "assert np.abs(b - 6.7448975) < 1e-5"
   ]
  },
  {
   "cell_type": "markdown",
   "metadata": {},
   "source": [
    "__д)__ Сгенерируйте выборку размера $100$. Постройте по этой выборке гистограмму. На том же рисунке изобразите плотность распределения нормальной случайной величины. "
   ]
  },
  {
   "cell_type": "code",
   "execution_count": 9,
   "metadata": {},
   "outputs": [
    {
     "data": {
      "text/plain": [
       "array([26.3791526 , 21.47771607, 14.68996654,  1.48083896, -4.07610382,\n",
       "        9.59230435,  2.58359198, 20.49917819,  0.47729201, 13.47531214])"
      ]
     },
     "execution_count": 9,
     "metadata": {},
     "output_type": "execute_result"
    }
   ],
   "source": [
    "ex = norm_rv.rvs(100)\n",
    "ex[:10]"
   ]
  },
  {
   "cell_type": "code",
   "execution_count": 10,
   "metadata": {
    "deletable": false,
    "nbgrader": {
     "cell_type": "code",
     "checksum": "a4e78cfabb95f7d6731ce4093f12d648",
     "grade": false,
     "grade_id": "cell-62774151762c127c",
     "locked": false,
     "schema_version": 3,
     "solution": true,
     "task": false
    }
   },
   "outputs": [
    {
     "data": {
      "text/plain": [
       "Text(0, 0.5, '$f(x)$')"
      ]
     },
     "execution_count": 10,
     "metadata": {},
     "output_type": "execute_result"
    },
    {
     "data": {
      "image/png": "[encoded data removed]",
      "text/plain": [
       "<Figure size 432x288 with 1 Axes>"
      ]
     },
     "metadata": {
      "needs_background": "light"
     },
     "output_type": "display_data"
    }
   ],
   "source": [
    "x = np.linspace(-30, 30, 100)\n",
    "\n",
    "# плотность\n",
    "pdf = norm_rv.pdf(x)\n",
    "plt.plot(x, pdf, lw=2)\n",
    "\n",
    "plt.hist(ex, bins=50, density=True)\n",
    "\n",
    "plt.xlabel('$x$')\n",
    "plt.ylabel('$f(x)$')"
   ]
  },
  {
   "cell_type": "markdown",
   "metadata": {},
   "source": [
    "__е)__ Оцените эмпирическую функцию распределения. Изобразите её и теоретическую функцию распределения на графике. "
   ]
  },
  {
   "cell_type": "code",
   "execution_count": 11,
   "metadata": {
    "deletable": false,
    "nbgrader": {
     "cell_type": "code",
     "checksum": "ef1003858f59b906e900a606fb08bfa5",
     "grade": false,
     "grade_id": "cell-99ec9324e1bf3f73",
     "locked": false,
     "schema_version": 3,
     "solution": true,
     "task": false
    }
   },
   "outputs": [
    {
     "data": {
      "text/plain": [
       "<matplotlib.legend.Legend at 0x7f914d92ecc0>"
      ]
     },
     "execution_count": 11,
     "metadata": {},
     "output_type": "execute_result"
    },
    {
     "data": {
      "image/png": "[encoded data removed]",
      "text/plain": [
       "<Figure size 432x288 with 1 Axes>"
      ]
     },
     "metadata": {
      "needs_background": "light"
     },
     "output_type": "display_data"
    }
   ],
   "source": [
    "from statsmodels.distributions.empirical_distribution import ECDF\n",
    "x = np.linspace(-30, 30, 100)\n",
    "\n",
    "cdf = norm_rv.cdf(x)\n",
    "plt.plot(x, cdf, label='theoretical CDF')\n",
    "\n",
    "ecdf = ECDF(ex)\n",
    "plt.step(ecdf.x, ecdf.y, label='empirical CDF')\n",
    "\n",
    "plt.xlabel('$x$')\n",
    "plt.ylabel('$f(x)$')\n",
    "plt.legend(loc='upper left')"
   ]
  },
  {
   "cell_type": "markdown",
   "metadata": {},
   "source": [
    "## Упражнение 2 \n",
    "\n",
    "> Звёзды лучше видны с крыши, полезай и проверь сам. Ты так ждал этот знак свыше, и отметил его как спам. (Дайте танк) \n",
    "\n",
    "Пусть количество писем со спамом, которое пришло к нам на почту, имеет распределение Пуассона. Предположим, что вы получаете в среднем три спам-письма в день. Какова доля дней, в которые вы получаете пять или больше спам-писем?"
   ]
  },
  {
   "cell_type": "code",
   "execution_count": 12,
   "metadata": {
    "deletable": false,
    "nbgrader": {
     "cell_type": "code",
     "checksum": "a2e6d0384399007116f9d35950622798",
     "grade": false,
     "grade_id": "cell-e9335d7a188e9bb6",
     "locked": false,
     "schema_version": 3,
     "solution": true,
     "task": false
    }
   },
   "outputs": [],
   "source": [
    "pois = sts.poisson(3)"
   ]
  },
  {
   "cell_type": "code",
   "execution_count": 13,
   "metadata": {},
   "outputs": [
    {
     "name": "stdout",
     "output_type": "stream",
     "text": [
      "0.04978706836786395\n",
      "0.1991482734714558\n",
      "0.42319008112684364\n",
      "0.6472318887822313\n",
      "0.8152632445237722\n",
      "\n",
      " spam: -1.134620556272167\n"
     ]
    }
   ],
   "source": [
    "### Рапределение Пуассона - работает НЕПРАВИЛЬНО!\n",
    "\n",
    "n0 = pois.cdf(0)\n",
    "n1 = pois.cdf(1)\n",
    "n2 = pois.cdf(2)\n",
    "n3 = pois.cdf(3)\n",
    "n4 = pois.cdf(4)\n",
    "\n",
    "spam = 1 - (n0+n1+n2+n3+n4)\n",
    "\n",
    "print(n0, n1, n2, n3, n4, sep='\\n')\n",
    "print('\\n spam:', spam)"
   ]
  },
  {
   "cell_type": "code",
   "execution_count": 14,
   "metadata": {},
   "outputs": [
    {
     "name": "stdout",
     "output_type": "stream",
     "text": [
      "0.049787068367863944\n",
      "0.14936120510359183\n",
      "0.22404180765538775\n",
      "0.22404180765538775\n",
      "0.16803135574154082\n",
      "\n",
      " spam: 0.18473675547622792\n"
     ]
    }
   ],
   "source": [
    "import math\n",
    "\n",
    "def pois_dist(l, k):\n",
    "    return math.exp(-l)*((l**k)/math.factorial(k))\n",
    "\n",
    "n0 = pois_dist(3, 0)\n",
    "n1 = pois_dist(3, 1)\n",
    "n2 = pois_dist(3, 2)\n",
    "n3 = pois_dist(3, 3)\n",
    "n4 = pois_dist(3, 4)\n",
    "\n",
    "p = 1 - (n0+n1+n2+n3+n4)\n",
    "print(n0, n1, n2, n3, n4, sep='\\n')\n",
    "print('\\n spam:', p)"
   ]
  },
  {
   "cell_type": "code",
   "execution_count": 15,
   "metadata": {
    "deletable": false,
    "editable": false,
    "nbgrader": {
     "cell_type": "code",
     "checksum": "912f2b6d7bc1ecfbdb2e6194ecfc10bb",
     "grade": true,
     "grade_id": "cell-98ceec526b48dda9",
     "locked": true,
     "points": 1,
     "schema_version": 3,
     "solution": false,
     "task": false
    }
   },
   "outputs": [],
   "source": [
    "assert np.abs(p - 0.1847367) < 1e-5"
   ]
  },
  {
   "cell_type": "markdown",
   "metadata": {},
   "source": [
    "## Упражнение 3 \n",
    "\n",
    "Во время ЧЕ по футболу 2008 года и ЧМ 2010 года Осьминог Пауль занимался прогнозированием побед (после он ушёл в финансовую аналитику и IB). Осьминог дал верные прогнозы в 12 случаях из 14. Если предположить, что Пауль выбирает победителя наугад, какова вероятность получить 12 верных прогнозов из 14?"
   ]
  },
  {
   "cell_type": "code",
   "execution_count": 16,
   "metadata": {},
   "outputs": [],
   "source": [
    "# f(k) = \\binom{n}{k} p^k (1-p)^{n-k}\n",
    "# binom(n, p)\n",
    "# return k\n",
    "# n - количество попыток\n",
    "# k - количество попаданий\n",
    "# p - вероятность успеха\n",
    "\n",
    "binom = sts.binom(14, 0.5)"
   ]
  },
  {
   "cell_type": "code",
   "execution_count": 17,
   "metadata": {
    "deletable": false,
    "nbgrader": {
     "cell_type": "code",
     "checksum": "1d5eaaad602287108278caa16e51225f",
     "grade": false,
     "grade_id": "cell-14be6ed99a0d0875",
     "locked": false,
     "schema_version": 3,
     "solution": true,
     "task": false
    }
   },
   "outputs": [
    {
     "data": {
      "text/plain": [
       "0.99908447265625"
      ]
     },
     "execution_count": 17,
     "metadata": {},
     "output_type": "execute_result"
    }
   ],
   "source": [
    "### Биноминальное распределение - работает НЕПРАВИЛЬНО!\n",
    "\n",
    "p = binom.cdf(12)\n",
    "p"
   ]
  },
  {
   "cell_type": "code",
   "execution_count": 18,
   "metadata": {},
   "outputs": [
    {
     "data": {
      "text/plain": [
       "0.00555419921875"
      ]
     },
     "execution_count": 18,
     "metadata": {},
     "output_type": "execute_result"
    }
   ],
   "source": [
    "def comb(n, k):\n",
    "    return math.factorial(n)/(math.factorial(k)*math.factorial(n-k))\n",
    "\n",
    "# n! / (k! * (n - k)!)\n",
    "\n",
    "n = 14\n",
    "k = 12\n",
    "pr = 0.5\n",
    "\n",
    "p = comb(n, k) * (pr**k * (1-pr)**(n-k))\n",
    "p"
   ]
  },
  {
   "cell_type": "code",
   "execution_count": 19,
   "metadata": {
    "deletable": false,
    "editable": false,
    "nbgrader": {
     "cell_type": "code",
     "checksum": "2db603bf321c7fb2255d3f7deceeda03",
     "grade": true,
     "grade_id": "cell-2d5479b3d44226ea",
     "locked": true,
     "points": 1,
     "schema_version": 3,
     "solution": false,
     "task": false
    }
   },
   "outputs": [],
   "source": [
    "assert np.abs(p - 0.0055541) < 1e-5"
   ]
  },
  {
   "cell_type": "markdown",
   "metadata": {},
   "source": [
    "Если предположить, что Осьминог правильно выбирает победителя с вероятностью $0.9$, какова вероятность получить тот же результат? "
   ]
  },
  {
   "cell_type": "code",
   "execution_count": 20,
   "metadata": {
    "deletable": false,
    "nbgrader": {
     "cell_type": "code",
     "checksum": "53f185efb71e96b1de5fdea28930777c",
     "grade": false,
     "grade_id": "cell-6b68d3e49ada3496",
     "locked": false,
     "schema_version": 3,
     "solution": true,
     "task": false
    }
   },
   "outputs": [
    {
     "data": {
      "text/plain": [
       "0.25701087819770996"
      ]
     },
     "execution_count": 20,
     "metadata": {},
     "output_type": "execute_result"
    }
   ],
   "source": [
    "new_binom = sts.binom(14, 0.9)\n",
    "\n",
    "n = 14\n",
    "k = 12\n",
    "pr = 0.9\n",
    "\n",
    "p = comb(n, k) * (pr**k * (1-pr)**(n-k))\n",
    "p"
   ]
  },
  {
   "cell_type": "code",
   "execution_count": 21,
   "metadata": {
    "deletable": false,
    "editable": false,
    "nbgrader": {
     "cell_type": "code",
     "checksum": "4ad8a67eb2b84dd78e36697fa2529509",
     "grade": true,
     "grade_id": "cell-f594071da5301c73",
     "locked": true,
     "points": 1,
     "schema_version": 3,
     "solution": false,
     "task": false
    }
   },
   "outputs": [],
   "source": [
    "assert np.abs(p - 0.2570108) < 1e-5"
   ]
  },
  {
   "cell_type": "markdown",
   "metadata": {},
   "source": [
    " "
   ]
  }
 ],
 "metadata": {
  "kernelspec": {
   "display_name": "Python 3",
   "language": "python",
   "name": "python3"
  },
  "language_info": {
   "codemirror_mode": {
    "name": "ipython",
    "version": 3
   },
   "file_extension": ".py",
   "mimetype": "text/x-python",
   "name": "python",
   "nbconvert_exporter": "python",
   "pygments_lexer": "ipython3",
   "version": "3.7.3"
  }
 },
 "nbformat": 4,
 "nbformat_minor": 2
}
